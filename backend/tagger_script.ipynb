{
 "cells": [
  {
   "cell_type": "code",
   "execution_count": null,
   "id": "dff71451",
   "metadata": {},
   "outputs": [],
   "source": [
    "def get_start_end(text, substring):\n",
    "    start = text.index(substring)\n",
    "    end = start + len(substring)\n",
    "    print(text[start:end + 1])\n",
    "    return f\"{start} - {end} \\n\""
   ]
  },
  {
   "cell_type": "code",
   "execution_count": null,
   "id": "9ff6b0f3",
   "metadata": {},
   "outputs": [
    {
     "name": "stdout",
     "output_type": "stream",
     "text": [
      "---- LESSOR_NAME ----\n",
      "Jessica Johnson\n",
      "126 - 140 \n",
      "\n",
      "---- LESSEE_NAME ----\n",
      "Ashley Davis\n",
      "163 - 174 \n",
      "\n",
      "---- PROPERTY_ADDRESS ----\n",
      "8997 Birch Way, Springfield, CA 53353\n",
      "276 - 312 \n",
      "\n",
      "---- LEASE_START_DATE ----\n",
      "373 - 387\n",
      "August 27, 2024 \n",
      "\n",
      "---- LEASE_END_DATE ----\n",
      "August 27, 2025\n",
      "412 - 426 \n",
      "\n",
      "---- RENT_AMOUNT ----\n",
      "$1846\n",
      "549 - 553 \n",
      "\n",
      "---- SECURITY_DEPOSIT_AMOUNT ----\n",
      "$2215\n",
      "791 - 795 \n",
      "\n"
     ]
    }
   ],
   "source": [
    "f = open(\"/Users/akshaychavan/Documents/college/NLP/Lease_Documents_Text/Lease_Agreement_10.txt\")\n",
    "text = f.read()\n",
    "n = len(text)\n",
    "print(\"---- LESSOR_NAME ----\")\n",
    "lessor = 'Jessica Johnson'\n",
    "print(get_start_end(text, lessor))\n",
    "\n",
    "print(\"---- LESSEE_NAME ----\")\n",
    "lessee = 'Ashley Davis'\n",
    "print(get_start_end(text, lessee))\n",
    "\n",
    "print(\"---- PROPERTY_ADDRESS ----\")\n",
    "address = '8997 Birch Way, Springfield, CA 53353'\n",
    "print(get_start_end(text, address))\n",
    "\n",
    "print(\"---- LEASE_START_DATE ----\")\n",
    "start_date = 'commence on August 27, 2024'\n",
    "start = text.index(start_date) + len('commence on ')\n",
    "end = start + len(start_date) - len('commence on ')\n",
    "print(f\"{start} - {end}\")\n",
    "print(text[start:end + 1], \"\\n\")\n",
    "\n",
    "print(\"---- LEASE_END_DATE ----\")\n",
    "end_date = 'August 27, 2025'\n",
    "print(get_start_end(text, end_date))\n",
    "\n",
    "print(\"---- RENT_AMOUNT ----\")\n",
    "rent = '$1846'\n",
    "print(get_start_end(text, rent))\n",
    "\n",
    "print(\"---- SECURITY_DEPOSIT_AMOUNT ----\")\n",
    "security_deposit = '$2215'\n",
    "print(get_start_end(text, security_deposit))"
   ]
  },
  {
   "cell_type": "code",
   "execution_count": null,
   "id": "c0b088d8",
   "metadata": {},
   "outputs": [],
   "source": []
  }
 ],
 "metadata": {
  "kernelspec": {
   "display_name": "Python 3",
   "language": "python",
   "name": "python3"
  },
  "language_info": {
   "codemirror_mode": {
    "name": "ipython",
    "version": 3
   },
   "file_extension": ".py",
   "mimetype": "text/x-python",
   "name": "python",
   "nbconvert_exporter": "python",
   "pygments_lexer": "ipython3",
   "version": "3.9.6"
  }
 },
 "nbformat": 4,
 "nbformat_minor": 5
}
