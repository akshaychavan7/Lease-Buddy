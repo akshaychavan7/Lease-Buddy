{
 "cells": [
  {
   "metadata": {},
   "cell_type": "markdown",
   "source": [
    "The cell below is used to create a Golden Standard csv file.  Used to check if the model's NER prediction is correct.\n",
    "\n",
    "Format:\n",
    "| FILE_PATH                                               | LESSOR_NAME      | LESSEE_NAME      | PROPERTY_ADDRESS                                 | LEASE_START_DATE | LEASE_END_DATE   | RENT_AMOUNT | SECURITY_DEPOSIT_AMOUNT |\n",
    "|----------------------------------------------------------|------------------|------------------|--------------------------------------------------|------------------|------------------|-------------|--------------------------|\n",
    "| ./datasets/dataset-master/Lease_Agreement_1.docx   | Ashley Martinez  | Sarah Williams   | 5316 Pine Rd, Franklin, CA 70457                 | May 26, 2025     | May 26, 2026     | $1038       |  $1245                    |\n",
    "| ./datasets/dataset-master/Lease_Agreement_2.docx  | Ashley Jones     | Jessica Miller   | 538 Spruce Ct, Springfield, NY 82660             | December 16, 2024| December 16, 2025| $1746       |  $2095                    |\n",
    "| ./datasets/dataset-master/Lease_Agreement_3.docx   | Brian Miller     | Amanda Garcia    | 1807 Chestnut Blvd, Fairview, CA 68967           | September 20, 2024| September 20, 2025| $2611     |  $3133                    |\n",
    "| ./datasets/dataset-master/Lease_Agreement_4.docx   | David Hernandez  | Michael Johnson  | 2658 Elm St, Franklin, GA 71686                  | May 28, 2025     | May 28, 2026     | $3330       |  $3996                   |\n"
   ],
   "id": "cc116504ac0419ed"
  },
  {
   "metadata": {
    "ExecuteTime": {
     "end_time": "2025-08-02T22:03:09.289198Z",
     "start_time": "2025-08-02T22:03:09.277201Z"
    }
   },
   "cell_type": "code",
   "source": [
    "from docx import Document\n",
    "import pandas as pd\n",
    "\n",
    "dataframe = pd.DataFrame(columns=['FILE_PATH', 'LESSOR_NAME', 'LESSEE_NAME', 'PROPERTY_ADDRESS', 'LEASE_START_DATE', 'LEASE_END_DATE', 'RENT_AMOUNT', 'SECURITY_DEPOSIT_AMOUNT'])\n",
    "\n",
    "def data_preprocessing(data):\n",
    "    for f in data:\n",
    "        file_name = f[\"file_path\"]\n",
    "        doc_path = file_name\n",
    "        doc = Document(doc_path)\n",
    "        text = \"\\n\".join([p.text for p in doc.paragraphs if p.text.strip()]).strip()\n",
    "\n",
    "        # Tokenize by whitespace, and track char positions\n",
    "        tokens = []\n",
    "        token_spans = []\n",
    "        start = 0\n",
    "        for word in text.split():\n",
    "            start = text.find(word, start)  # Find next occurrence\n",
    "            end = start + len(word)\n",
    "            tokens.append(word)\n",
    "            token_spans.append((start, end))\n",
    "            start = end\n",
    "\n",
    "        # Initialize all labels to 0 (\"O\")\n",
    "        labels = [0] * len(tokens)\n",
    "        row =[file_name]\n",
    "        # Map character spans to token indices\n",
    "        for entity_name, span in f[\"entities\"].items():\n",
    "            ent_start = span[\"start\"]\n",
    "            ent_end = span[\"end\"]\n",
    "            row.append(text[ent_start:ent_end])\n",
    "        dataframe.loc[len(dataframe)] = row\n",
    "\n",
    "    # Save to CSV\n",
    "    dataframe.to_csv(\"test_data.csv\", index=False)\n",
    "\n",
    "\n",
    "\n"
   ],
   "id": "8e8b6a180206652f",
   "outputs": [],
   "execution_count": 464
  },
  {
   "metadata": {
    "ExecuteTime": {
     "end_time": "2025-08-02T22:03:11.062975Z",
     "start_time": "2025-08-02T22:03:09.944461Z"
    }
   },
   "cell_type": "code",
   "source": [
    "import json\n",
    "\n",
    "file_path = \".\\\\tagged_dataset.json\"\n",
    "\n",
    "with open(file_path) as f:\n",
    "    data = json.load(f)\n",
    "    data_preprocessing(data)"
   ],
   "id": "fa02b84612008c34",
   "outputs": [],
   "execution_count": 465
  },
  {
   "metadata": {},
   "cell_type": "markdown",
   "source": [
    "compare_result(pred_file, golden_file, result_file)\n",
    "\n",
    "pred_file: Prediction result csv file path\n",
    "\n",
    "golden_file: Original golden standard csv file path\n",
    "\n",
    "result_file: File path to save the result file. By default, it is './result.csv'\n",
    "\n",
    "What it does:\n",
    "\n",
    "1. Loads both CSVs into DataFrames.\n",
    "\n",
    "2. Iterates through each row in the pred_file.\n",
    "\n",
    "3. Finds the corresponding row in the golden_file by matching FILE_PATH.\n",
    "\n",
    "4. Compares each field in the row.\n",
    "\n",
    "5. Appends a new row to the result:\n",
    "\n",
    "    1 if prediction matches the golden truth.\n",
    "\n",
    "    0 if it doesn't.\n",
    "\n",
    "6. Saves the result as a CSV file.\n"
   ],
   "id": "174d68618f1e0365"
  },
  {
   "metadata": {
    "ExecuteTime": {
     "end_time": "2025-08-02T22:03:38.623001Z",
     "start_time": "2025-08-02T22:03:38.526146Z"
    }
   },
   "cell_type": "code",
   "source": [
    "import pandas as pd\n",
    "\n",
    "def compare_results(pred_file, golden_file, result_file = 'result.csv'):\n",
    "    # Load prediction and original CSVs\n",
    "    pred_df = pd.read_csv(pred_file)\n",
    "    orig_df = pd.read_csv(golden_file)\n",
    "\n",
    "    # Output comparison dataframe\n",
    "    result_dataframe = pd.DataFrame(columns=[\n",
    "        'FILE_PATH', 'LESSOR_NAME', 'LESSEE_NAME',\n",
    "        'PROPERTY_ADDRESS', 'LEASE_START_DATE', 'LEASE_END_DATE',\n",
    "        'RENT_AMOUNT', 'SECURITY_DEPOSIT_AMOUNT'\n",
    "    ])\n",
    "\n",
    "    # Iterate through prediction file\n",
    "    for i in range(len(pred_df)):\n",
    "        file_path = pred_df.iloc[i]['FILE_PATH']\n",
    "        orig = orig_df[orig_df['FILE_PATH'] == file_path]\n",
    "\n",
    "        # Skip if no match in original\n",
    "        if orig.empty:\n",
    "            continue\n",
    "\n",
    "        pred_row = pred_df[pred_df['FILE_PATH'] == file_path].iloc[0]\n",
    "        orig_row = orig.iloc[0]\n",
    "\n",
    "        comparison = {\n",
    "            'FILE_PATH': file_path,\n",
    "            'LESSOR_NAME': int(pred_row['LESSOR_NAME'] == orig_row['LESSOR_NAME']),\n",
    "            'LESSEE_NAME': int(pred_row['LESSEE_NAME'] == orig_row['LESSEE_NAME']),\n",
    "            'PROPERTY_ADDRESS': int(pred_row['PROPERTY_ADDRESS'] == orig_row['PROPERTY_ADDRESS']),\n",
    "            'LEASE_START_DATE': int(pred_row['LEASE_START_DATE'] == orig_row['LEASE_START_DATE']),\n",
    "            'LEASE_END_DATE': int(pred_row['LEASE_END_DATE'] == orig_row['LEASE_END_DATE']),\n",
    "            'RENT_AMOUNT': int(pred_row['RENT_AMOUNT'] == orig_row['RENT_AMOUNT']),\n",
    "            'SECURITY_DEPOSIT_AMOUNT': int(pred_row['SECURITY_DEPOSIT_AMOUNT'] == orig_row['SECURITY_DEPOSIT_AMOUNT']),\n",
    "        }\n",
    "\n",
    "        result_dataframe = pd.concat([result_dataframe, pd.DataFrame([comparison])], ignore_index=True)\n",
    "\n",
    "    # Save to CSV\n",
    "    result_dataframe.to_csv(result_file, index=False)\n",
    "\n"
   ],
   "id": "ebcff02c2c3851bf",
   "outputs": [],
   "execution_count": 466
  },
  {
   "metadata": {},
   "cell_type": "code",
   "outputs": [],
   "execution_count": null,
   "source": "",
   "id": "b226bb3424df62e1"
  }
 ],
 "metadata": {
  "kernelspec": {
   "display_name": "Python 3",
   "language": "python",
   "name": "python3"
  },
  "language_info": {
   "codemirror_mode": {
    "name": "ipython",
    "version": 2
   },
   "file_extension": ".py",
   "mimetype": "text/x-python",
   "name": "python",
   "nbconvert_exporter": "python",
   "pygments_lexer": "ipython2",
   "version": "2.7.6"
  }
 },
 "nbformat": 4,
 "nbformat_minor": 5
}
