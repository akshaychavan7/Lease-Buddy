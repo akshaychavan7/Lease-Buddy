{
 "cells": [
  {
   "cell_type": "code",
   "id": "initial_id",
   "metadata": {
    "collapsed": true,
    "ExecuteTime": {
     "end_time": "2025-08-02T12:12:41.592031Z",
     "start_time": "2025-08-02T12:12:27.389529Z"
    }
   },
   "source": [
    "from spacy import Language\n",
    "import spacy\n",
    "from spacy.tokens import DocBin\n",
    "from spacy.training.example import Example\n",
    "from pathlib import Path\n",
    "\n",
    "spacy.require_gpu()\n",
    "# Load a blank English pipeline with transformer\n",
    "nlp = spacy.blank(\"en\")\n",
    "print(nlp.use_gpu)\n",
    "# Add transformer + NER to the pipeline\n",
    "transformer_config = {\n",
    "    \"model\": {\n",
    "        \"@architectures\": \"spacy-transformers.TransformerModel.v3\",\n",
    "        \"name\": \"nlpaueb/legal-bert-base-uncased\",\n",
    "        \"tokenizer_config\": {\"use_fast\": True},\n",
    "        \"transformer_config\": {\"output_attentions\": False},\n",
    "    }\n",
    "}\n",
    "nlp.add_pipe(\"transformer\", config=transformer_config)\n",
    "nlp.add_pipe(\"ner\", last=True)\n"
   ],
   "outputs": [
    {
     "data": {
      "text/plain": [
       "<spacy.pipeline.ner.EntityRecognizer at 0x18ecb954580>"
      ]
     },
     "execution_count": 1,
     "metadata": {},
     "output_type": "execute_result"
    }
   ],
   "execution_count": 1
  },
  {
   "metadata": {
    "ExecuteTime": {
     "end_time": "2025-08-02T12:41:10.266094Z",
     "start_time": "2025-08-02T12:41:09.277697Z"
    }
   },
   "cell_type": "code",
   "source": [
    "import json\n",
    "from docx import Document\n",
    "\n",
    "def load_docx_text(docx_path):\n",
    "    doc = Document(docx_path)\n",
    "    return \"\\n\".join([p.text for p in doc.paragraphs if p.text.strip()])\n",
    "\n",
    "file_path = [\"D:\\\\NEU\\Summer2025\\\\NLP\\FinalProject\\Project 1\\\\Lease-Buddy\\\\backend\\\\tagged_dataset3.json\" ,\"D:\\\\NEU\\Summer2025\\\\NLP\\FinalProject\\Project 1\\\\Lease-Buddy\\\\backend\\\\tagged_dataset.json\",\"D:\\\\NEU\\Summer2025\\\\NLP\\FinalProject\\Project 1\\\\Lease-Buddy\\\\backend\\\\tagged_dataset4.json\"]\n",
    "# Load your JSON object\n",
    "TRAIN_DATA = []\n",
    "for file in file_path:\n",
    "    with open(file, \"r\", encoding=\"utf-8\") as f:\n",
    "        raw_data = json.load(f)\n",
    "    print(file)\n",
    "\n",
    "    for entry in raw_data:\n",
    "        file_name = entry[\"file_path\"].split(\"/\")[-1].split(\".\")[0]\n",
    "        doc_path = f\"D:\\\\NEU\\\\Summer2025\\\\NLP\\\\FinalProject\\\\Lease-Buddy\\\\backend\\\\models\\\\NER\\\\Master Dataset\\\\{file_name}.docx\"\n",
    "        doc = Document(doc_path)\n",
    "        text = \"\\n\".join([p.text for p in doc.paragraphs if p.text.strip()]).strip()\n",
    "        ents = []\n",
    "\n",
    "        for label, span in entry[\"entities\"].items():\n",
    "            start = span[\"start\"]\n",
    "            end = span[\"end\"]\n",
    "            entity_text = text[start:end]\n",
    "\n",
    "            # Optional: basic sanity check\n",
    "            if text[start:end].strip():\n",
    "                ents.append((start, end, label))\n",
    "\n",
    "        TRAIN_DATA.append((text, {\"entities\": ents}))\n"
   ],
   "id": "e0d4c40a8c102f56",
   "outputs": [
    {
     "name": "stdout",
     "output_type": "stream",
     "text": [
      "D:\\NEU\\Summer2025\\NLP\\FinalProject\\Project 1\\Lease-Buddy\\backend\\tagged_dataset3.json\n",
      "D:\\NEU\\Summer2025\\NLP\\FinalProject\\Project 1\\Lease-Buddy\\backend\\tagged_dataset.json\n",
      "D:\\NEU\\Summer2025\\NLP\\FinalProject\\Project 1\\Lease-Buddy\\backend\\tagged_dataset4.json\n"
     ]
    }
   ],
   "execution_count": 20
  },
  {
   "metadata": {
    "ExecuteTime": {
     "end_time": "2025-08-02T12:41:11.220651Z",
     "start_time": "2025-08-02T12:41:11.215649Z"
    }
   },
   "cell_type": "code",
   "source": "print(len(TRAIN_DATA))",
   "id": "8b7dbad5d611612b",
   "outputs": [
    {
     "name": "stdout",
     "output_type": "stream",
     "text": [
      "72\n"
     ]
    }
   ],
   "execution_count": 21
  },
  {
   "metadata": {
    "ExecuteTime": {
     "end_time": "2025-08-02T12:41:40.320497Z",
     "start_time": "2025-08-02T12:41:39.983008Z"
    }
   },
   "cell_type": "code",
   "source": [
    "ner = nlp.get_pipe(\"ner\")\n",
    "ner.add_label(\"LESSOR_NAME\")\n",
    "ner.add_label(\"LESSEE_NAME\")\n",
    "ner.add_label(\"PROPERTY_ADDRESS\")\n",
    "ner.add_label(\"LEASE_START_DATE\")\n",
    "ner.add_label(\"LEASE_END_DATE\")\n",
    "ner.add_label(\"RENT_AMOUNT\")\n",
    "ner.add_label(\"SECURITY_DEPOSIT_AMOUNT\")\n",
    "\n",
    "# Convert training data to spaCy examples\n",
    "examples = []\n",
    "for text, annot in TRAIN_DATA:\n",
    "    doc = nlp.make_doc(text)\n",
    "    example = Example.from_dict(doc, annot)\n",
    "    examples.append(example)\n"
   ],
   "id": "f41850c8f3efcccf",
   "outputs": [],
   "execution_count": 23
  },
  {
   "metadata": {
    "ExecuteTime": {
     "end_time": "2025-08-02T16:39:08.763641Z",
     "start_time": "2025-08-02T12:41:44.953158Z"
    }
   },
   "cell_type": "code",
   "source": [
    "from spacy.training import Example\n",
    "from spacy.util import minibatch\n",
    "from tqdm import tqdm\n",
    "\n",
    "optimizer = nlp.initialize()\n",
    "\n",
    "for i in range(100):  # epochs\n",
    "    losses = {}\n",
    "    batches = minibatch(examples, size=2)\n",
    "    for batch in tqdm(batches):\n",
    "        nlp.update(batch, losses=losses)\n",
    "    print(f\"Epoch {i + 1}, Losses: {losses}\")\n"
   ],
   "id": "c48e7bc413705a86",
   "outputs": [
    {
     "name": "stderr",
     "output_type": "stream",
     "text": [
      "36it [01:11,  2.00s/it]\n"
     ]
    },
    {
     "name": "stdout",
     "output_type": "stream",
     "text": [
      "Epoch 1, Losses: {'transformer': 0.0, 'ner': np.float32(10602.237)}\n"
     ]
    },
    {
     "name": "stderr",
     "output_type": "stream",
     "text": [
      "36it [01:11,  1.98s/it]\n"
     ]
    },
    {
     "name": "stdout",
     "output_type": "stream",
     "text": [
      "Epoch 2, Losses: {'transformer': 0.0, 'ner': np.float32(1517.2496)}\n"
     ]
    },
    {
     "name": "stderr",
     "output_type": "stream",
     "text": [
      "36it [01:10,  1.95s/it]\n"
     ]
    },
    {
     "name": "stdout",
     "output_type": "stream",
     "text": [
      "Epoch 3, Losses: {'transformer': 0.0, 'ner': np.float32(2752.5017)}\n"
     ]
    },
    {
     "name": "stderr",
     "output_type": "stream",
     "text": [
      "36it [03:09,  5.25s/it]\n"
     ]
    },
    {
     "name": "stdout",
     "output_type": "stream",
     "text": [
      "Epoch 4, Losses: {'transformer': 0.0, 'ner': np.float32(2716.4065)}\n"
     ]
    },
    {
     "name": "stderr",
     "output_type": "stream",
     "text": [
      "36it [03:53,  6.49s/it]\n"
     ]
    },
    {
     "name": "stdout",
     "output_type": "stream",
     "text": [
      "Epoch 5, Losses: {'transformer': 0.0, 'ner': np.float32(1579.731)}\n"
     ]
    },
    {
     "name": "stderr",
     "output_type": "stream",
     "text": [
      "36it [03:23,  5.66s/it]\n"
     ]
    },
    {
     "name": "stdout",
     "output_type": "stream",
     "text": [
      "Epoch 6, Losses: {'transformer': 0.0, 'ner': np.float32(909.9778)}\n"
     ]
    },
    {
     "name": "stderr",
     "output_type": "stream",
     "text": [
      "36it [04:14,  7.06s/it]\n"
     ]
    },
    {
     "name": "stdout",
     "output_type": "stream",
     "text": [
      "Epoch 7, Losses: {'transformer': 0.0, 'ner': np.float32(739.0276)}\n"
     ]
    },
    {
     "name": "stderr",
     "output_type": "stream",
     "text": [
      "36it [04:05,  6.81s/it]\n"
     ]
    },
    {
     "name": "stdout",
     "output_type": "stream",
     "text": [
      "Epoch 8, Losses: {'transformer': 0.0, 'ner': np.float32(1156.2622)}\n"
     ]
    },
    {
     "name": "stderr",
     "output_type": "stream",
     "text": [
      "36it [04:02,  6.75s/it]\n"
     ]
    },
    {
     "name": "stdout",
     "output_type": "stream",
     "text": [
      "Epoch 9, Losses: {'transformer': 0.0, 'ner': np.float32(366.6578)}\n"
     ]
    },
    {
     "name": "stderr",
     "output_type": "stream",
     "text": [
      "36it [04:02,  6.73s/it]\n"
     ]
    },
    {
     "name": "stdout",
     "output_type": "stream",
     "text": [
      "Epoch 10, Losses: {'transformer': 0.0, 'ner': np.float32(193.83557)}\n"
     ]
    },
    {
     "name": "stderr",
     "output_type": "stream",
     "text": [
      "36it [04:02,  6.74s/it]\n"
     ]
    },
    {
     "name": "stdout",
     "output_type": "stream",
     "text": [
      "Epoch 11, Losses: {'transformer': 0.0, 'ner': np.float32(161.51445)}\n"
     ]
    },
    {
     "name": "stderr",
     "output_type": "stream",
     "text": [
      "36it [04:02,  6.74s/it]\n"
     ]
    },
    {
     "name": "stdout",
     "output_type": "stream",
     "text": [
      "Epoch 12, Losses: {'transformer': 0.0, 'ner': np.float32(223.89786)}\n"
     ]
    },
    {
     "name": "stderr",
     "output_type": "stream",
     "text": [
      "36it [04:19,  7.20s/it]\n"
     ]
    },
    {
     "name": "stdout",
     "output_type": "stream",
     "text": [
      "Epoch 13, Losses: {'transformer': 0.0, 'ner': np.float32(121.466034)}\n"
     ]
    },
    {
     "name": "stderr",
     "output_type": "stream",
     "text": [
      "36it [04:00,  6.69s/it]\n"
     ]
    },
    {
     "name": "stdout",
     "output_type": "stream",
     "text": [
      "Epoch 14, Losses: {'transformer': 0.0, 'ner': np.float32(192.64685)}\n"
     ]
    },
    {
     "name": "stderr",
     "output_type": "stream",
     "text": [
      "36it [04:03,  6.77s/it]\n"
     ]
    },
    {
     "name": "stdout",
     "output_type": "stream",
     "text": [
      "Epoch 15, Losses: {'transformer': 0.0, 'ner': np.float32(124.91169)}\n"
     ]
    },
    {
     "name": "stderr",
     "output_type": "stream",
     "text": [
      "36it [01:27,  2.43s/it]\n"
     ]
    },
    {
     "name": "stdout",
     "output_type": "stream",
     "text": [
      "Epoch 16, Losses: {'transformer': 0.0, 'ner': np.float32(116.54868)}\n"
     ]
    },
    {
     "name": "stderr",
     "output_type": "stream",
     "text": [
      "36it [01:11,  1.98s/it]\n"
     ]
    },
    {
     "name": "stdout",
     "output_type": "stream",
     "text": [
      "Epoch 17, Losses: {'transformer': 0.0, 'ner': np.float32(138.6576)}\n"
     ]
    },
    {
     "name": "stderr",
     "output_type": "stream",
     "text": [
      "36it [01:10,  1.96s/it]\n"
     ]
    },
    {
     "name": "stdout",
     "output_type": "stream",
     "text": [
      "Epoch 18, Losses: {'transformer': 0.0, 'ner': np.float32(111.30799)}\n"
     ]
    },
    {
     "name": "stderr",
     "output_type": "stream",
     "text": [
      "36it [01:22,  2.29s/it]\n"
     ]
    },
    {
     "name": "stdout",
     "output_type": "stream",
     "text": [
      "Epoch 19, Losses: {'transformer': 0.0, 'ner': np.float32(162.73682)}\n"
     ]
    },
    {
     "name": "stderr",
     "output_type": "stream",
     "text": [
      "36it [01:37,  2.71s/it]\n"
     ]
    },
    {
     "name": "stdout",
     "output_type": "stream",
     "text": [
      "Epoch 20, Losses: {'transformer': 0.0, 'ner': np.float32(93.528305)}\n"
     ]
    },
    {
     "name": "stderr",
     "output_type": "stream",
     "text": [
      "36it [01:36,  2.69s/it]\n"
     ]
    },
    {
     "name": "stdout",
     "output_type": "stream",
     "text": [
      "Epoch 21, Losses: {'transformer': 0.0, 'ner': np.float32(120.12452)}\n"
     ]
    },
    {
     "name": "stderr",
     "output_type": "stream",
     "text": [
      "36it [01:26,  2.41s/it]\n"
     ]
    },
    {
     "name": "stdout",
     "output_type": "stream",
     "text": [
      "Epoch 22, Losses: {'transformer': 0.0, 'ner': np.float32(130.47559)}\n"
     ]
    },
    {
     "name": "stderr",
     "output_type": "stream",
     "text": [
      "36it [03:18,  5.51s/it]\n"
     ]
    },
    {
     "name": "stdout",
     "output_type": "stream",
     "text": [
      "Epoch 23, Losses: {'transformer': 0.0, 'ner': np.float32(98.93853)}\n"
     ]
    },
    {
     "name": "stderr",
     "output_type": "stream",
     "text": [
      "36it [04:00,  6.68s/it]\n"
     ]
    },
    {
     "name": "stdout",
     "output_type": "stream",
     "text": [
      "Epoch 24, Losses: {'transformer': 0.0, 'ner': np.float32(148.98027)}\n"
     ]
    },
    {
     "name": "stderr",
     "output_type": "stream",
     "text": [
      "36it [04:07,  6.87s/it]\n"
     ]
    },
    {
     "name": "stdout",
     "output_type": "stream",
     "text": [
      "Epoch 25, Losses: {'transformer': 0.0, 'ner': np.float32(101.09844)}\n"
     ]
    },
    {
     "name": "stderr",
     "output_type": "stream",
     "text": [
      "36it [04:02,  6.74s/it]\n"
     ]
    },
    {
     "name": "stdout",
     "output_type": "stream",
     "text": [
      "Epoch 26, Losses: {'transformer': 0.0, 'ner': np.float32(93.462)}\n"
     ]
    },
    {
     "name": "stderr",
     "output_type": "stream",
     "text": [
      "36it [03:03,  5.09s/it]\n"
     ]
    },
    {
     "name": "stdout",
     "output_type": "stream",
     "text": [
      "Epoch 27, Losses: {'transformer': 0.0, 'ner': np.float32(95.067245)}\n"
     ]
    },
    {
     "name": "stderr",
     "output_type": "stream",
     "text": [
      "36it [01:22,  2.28s/it]\n"
     ]
    },
    {
     "name": "stdout",
     "output_type": "stream",
     "text": [
      "Epoch 28, Losses: {'transformer': 0.0, 'ner': np.float32(82.39818)}\n"
     ]
    },
    {
     "name": "stderr",
     "output_type": "stream",
     "text": [
      "36it [02:16,  3.80s/it]\n"
     ]
    },
    {
     "name": "stdout",
     "output_type": "stream",
     "text": [
      "Epoch 29, Losses: {'transformer': 0.0, 'ner': np.float32(88.090065)}\n"
     ]
    },
    {
     "name": "stderr",
     "output_type": "stream",
     "text": [
      "36it [05:26,  9.07s/it]\n"
     ]
    },
    {
     "name": "stdout",
     "output_type": "stream",
     "text": [
      "Epoch 30, Losses: {'transformer': 0.0, 'ner': np.float32(59.977867)}\n"
     ]
    },
    {
     "name": "stderr",
     "output_type": "stream",
     "text": [
      "36it [03:34,  5.95s/it]\n"
     ]
    },
    {
     "name": "stdout",
     "output_type": "stream",
     "text": [
      "Epoch 31, Losses: {'transformer': 0.0, 'ner': np.float32(78.000496)}\n"
     ]
    },
    {
     "name": "stderr",
     "output_type": "stream",
     "text": [
      "36it [06:15, 10.42s/it]\n"
     ]
    },
    {
     "name": "stdout",
     "output_type": "stream",
     "text": [
      "Epoch 32, Losses: {'transformer': 0.0, 'ner': np.float32(63.50784)}\n"
     ]
    },
    {
     "name": "stderr",
     "output_type": "stream",
     "text": [
      "36it [03:15,  5.44s/it]\n"
     ]
    },
    {
     "name": "stdout",
     "output_type": "stream",
     "text": [
      "Epoch 33, Losses: {'transformer': 0.0, 'ner': np.float32(79.390724)}\n"
     ]
    },
    {
     "name": "stderr",
     "output_type": "stream",
     "text": [
      "36it [01:20,  2.24s/it]\n"
     ]
    },
    {
     "name": "stdout",
     "output_type": "stream",
     "text": [
      "Epoch 34, Losses: {'transformer': 0.0, 'ner': np.float32(58.23883)}\n"
     ]
    },
    {
     "name": "stderr",
     "output_type": "stream",
     "text": [
      "36it [01:13,  2.04s/it]\n"
     ]
    },
    {
     "name": "stdout",
     "output_type": "stream",
     "text": [
      "Epoch 35, Losses: {'transformer': 0.0, 'ner': np.float32(40.265583)}\n"
     ]
    },
    {
     "name": "stderr",
     "output_type": "stream",
     "text": [
      "36it [01:10,  1.96s/it]\n"
     ]
    },
    {
     "name": "stdout",
     "output_type": "stream",
     "text": [
      "Epoch 36, Losses: {'transformer': 0.0, 'ner': np.float32(34.757736)}\n"
     ]
    },
    {
     "name": "stderr",
     "output_type": "stream",
     "text": [
      "36it [01:35,  2.66s/it]\n"
     ]
    },
    {
     "name": "stdout",
     "output_type": "stream",
     "text": [
      "Epoch 37, Losses: {'transformer': 0.0, 'ner': np.float32(16.307724)}\n"
     ]
    },
    {
     "name": "stderr",
     "output_type": "stream",
     "text": [
      "36it [01:36,  2.69s/it]\n"
     ]
    },
    {
     "name": "stdout",
     "output_type": "stream",
     "text": [
      "Epoch 38, Losses: {'transformer': 0.0, 'ner': np.float32(21.808502)}\n"
     ]
    },
    {
     "name": "stderr",
     "output_type": "stream",
     "text": [
      "36it [01:37,  2.70s/it]\n"
     ]
    },
    {
     "name": "stdout",
     "output_type": "stream",
     "text": [
      "Epoch 39, Losses: {'transformer': 0.0, 'ner': np.float32(17.456564)}\n"
     ]
    },
    {
     "name": "stderr",
     "output_type": "stream",
     "text": [
      "36it [01:37,  2.70s/it]\n"
     ]
    },
    {
     "name": "stdout",
     "output_type": "stream",
     "text": [
      "Epoch 40, Losses: {'transformer': 0.0, 'ner': np.float32(16.023615)}\n"
     ]
    },
    {
     "name": "stderr",
     "output_type": "stream",
     "text": [
      "36it [01:37,  2.70s/it]\n"
     ]
    },
    {
     "name": "stdout",
     "output_type": "stream",
     "text": [
      "Epoch 41, Losses: {'transformer': 0.0, 'ner': np.float32(13.696202)}\n"
     ]
    },
    {
     "name": "stderr",
     "output_type": "stream",
     "text": [
      "36it [01:36,  2.67s/it]\n"
     ]
    },
    {
     "name": "stdout",
     "output_type": "stream",
     "text": [
      "Epoch 42, Losses: {'transformer': 0.0, 'ner': np.float32(16.778448)}\n"
     ]
    },
    {
     "name": "stderr",
     "output_type": "stream",
     "text": [
      "36it [01:35,  2.66s/it]\n"
     ]
    },
    {
     "name": "stdout",
     "output_type": "stream",
     "text": [
      "Epoch 43, Losses: {'transformer': 0.0, 'ner': np.float32(13.429127)}\n"
     ]
    },
    {
     "name": "stderr",
     "output_type": "stream",
     "text": [
      "36it [01:36,  2.69s/it]\n"
     ]
    },
    {
     "name": "stdout",
     "output_type": "stream",
     "text": [
      "Epoch 44, Losses: {'transformer': 0.0, 'ner': np.float32(14.114061)}\n"
     ]
    },
    {
     "name": "stderr",
     "output_type": "stream",
     "text": [
      "36it [01:36,  2.69s/it]\n"
     ]
    },
    {
     "name": "stdout",
     "output_type": "stream",
     "text": [
      "Epoch 45, Losses: {'transformer': 0.0, 'ner': np.float32(13.203835)}\n"
     ]
    },
    {
     "name": "stderr",
     "output_type": "stream",
     "text": [
      "36it [01:38,  2.75s/it]\n"
     ]
    },
    {
     "name": "stdout",
     "output_type": "stream",
     "text": [
      "Epoch 46, Losses: {'transformer': 0.0, 'ner': np.float32(13.329561)}\n"
     ]
    },
    {
     "name": "stderr",
     "output_type": "stream",
     "text": [
      "36it [01:36,  2.69s/it]\n"
     ]
    },
    {
     "name": "stdout",
     "output_type": "stream",
     "text": [
      "Epoch 47, Losses: {'transformer': 0.0, 'ner': np.float32(12.1308975)}\n"
     ]
    },
    {
     "name": "stderr",
     "output_type": "stream",
     "text": [
      "36it [01:36,  2.69s/it]\n"
     ]
    },
    {
     "name": "stdout",
     "output_type": "stream",
     "text": [
      "Epoch 48, Losses: {'transformer': 0.0, 'ner': np.float32(12.336259)}\n"
     ]
    },
    {
     "name": "stderr",
     "output_type": "stream",
     "text": [
      "36it [01:37,  2.72s/it]\n"
     ]
    },
    {
     "name": "stdout",
     "output_type": "stream",
     "text": [
      "Epoch 49, Losses: {'transformer': 0.0, 'ner': np.float32(10.778618)}\n"
     ]
    },
    {
     "name": "stderr",
     "output_type": "stream",
     "text": [
      "36it [01:37,  2.71s/it]\n"
     ]
    },
    {
     "name": "stdout",
     "output_type": "stream",
     "text": [
      "Epoch 50, Losses: {'transformer': 0.0, 'ner': np.float32(9.993546)}\n"
     ]
    },
    {
     "name": "stderr",
     "output_type": "stream",
     "text": [
      "36it [01:36,  2.68s/it]\n"
     ]
    },
    {
     "name": "stdout",
     "output_type": "stream",
     "text": [
      "Epoch 51, Losses: {'transformer': 0.0, 'ner': np.float32(10.374078)}\n"
     ]
    },
    {
     "name": "stderr",
     "output_type": "stream",
     "text": [
      "36it [01:35,  2.66s/it]\n"
     ]
    },
    {
     "name": "stdout",
     "output_type": "stream",
     "text": [
      "Epoch 52, Losses: {'transformer': 0.0, 'ner': np.float32(10.584973)}\n"
     ]
    },
    {
     "name": "stderr",
     "output_type": "stream",
     "text": [
      "36it [02:11,  3.66s/it]\n"
     ]
    },
    {
     "name": "stdout",
     "output_type": "stream",
     "text": [
      "Epoch 53, Losses: {'transformer': 0.0, 'ner': np.float32(9.937037)}\n"
     ]
    },
    {
     "name": "stderr",
     "output_type": "stream",
     "text": [
      "36it [04:06,  6.85s/it]\n"
     ]
    },
    {
     "name": "stdout",
     "output_type": "stream",
     "text": [
      "Epoch 54, Losses: {'transformer': 0.0, 'ner': np.float32(9.672998)}\n"
     ]
    },
    {
     "name": "stderr",
     "output_type": "stream",
     "text": [
      "36it [04:12,  7.02s/it]\n"
     ]
    },
    {
     "name": "stdout",
     "output_type": "stream",
     "text": [
      "Epoch 55, Losses: {'transformer': 0.0, 'ner': np.float32(9.88815)}\n"
     ]
    },
    {
     "name": "stderr",
     "output_type": "stream",
     "text": [
      "36it [02:12,  3.68s/it]\n"
     ]
    },
    {
     "name": "stdout",
     "output_type": "stream",
     "text": [
      "Epoch 56, Losses: {'transformer': 0.0, 'ner': np.float32(9.948992)}\n"
     ]
    },
    {
     "name": "stderr",
     "output_type": "stream",
     "text": [
      "36it [01:11,  2.00s/it]\n"
     ]
    },
    {
     "name": "stdout",
     "output_type": "stream",
     "text": [
      "Epoch 57, Losses: {'transformer': 0.0, 'ner': np.float32(9.842823)}\n"
     ]
    },
    {
     "name": "stderr",
     "output_type": "stream",
     "text": [
      "36it [01:12,  2.02s/it]\n"
     ]
    },
    {
     "name": "stdout",
     "output_type": "stream",
     "text": [
      "Epoch 58, Losses: {'transformer': 0.0, 'ner': np.float32(10.435325)}\n"
     ]
    },
    {
     "name": "stderr",
     "output_type": "stream",
     "text": [
      "36it [01:09,  1.94s/it]\n"
     ]
    },
    {
     "name": "stdout",
     "output_type": "stream",
     "text": [
      "Epoch 59, Losses: {'transformer': 0.0, 'ner': np.float32(12.61137)}\n"
     ]
    },
    {
     "name": "stderr",
     "output_type": "stream",
     "text": [
      "36it [01:10,  1.95s/it]\n"
     ]
    },
    {
     "name": "stdout",
     "output_type": "stream",
     "text": [
      "Epoch 60, Losses: {'transformer': 0.0, 'ner': np.float32(17.121765)}\n"
     ]
    },
    {
     "name": "stderr",
     "output_type": "stream",
     "text": [
      "36it [01:09,  1.94s/it]\n"
     ]
    },
    {
     "name": "stdout",
     "output_type": "stream",
     "text": [
      "Epoch 61, Losses: {'transformer': 0.0, 'ner': np.float32(64.0304)}\n"
     ]
    },
    {
     "name": "stderr",
     "output_type": "stream",
     "text": [
      "36it [01:08,  1.91s/it]\n"
     ]
    },
    {
     "name": "stdout",
     "output_type": "stream",
     "text": [
      "Epoch 62, Losses: {'transformer': 0.0, 'ner': np.float32(10.817339)}\n"
     ]
    },
    {
     "name": "stderr",
     "output_type": "stream",
     "text": [
      "36it [01:08,  1.91s/it]\n"
     ]
    },
    {
     "name": "stdout",
     "output_type": "stream",
     "text": [
      "Epoch 63, Losses: {'transformer': 0.0, 'ner': np.float32(34.111546)}\n"
     ]
    },
    {
     "name": "stderr",
     "output_type": "stream",
     "text": [
      "36it [01:09,  1.93s/it]\n"
     ]
    },
    {
     "name": "stdout",
     "output_type": "stream",
     "text": [
      "Epoch 64, Losses: {'transformer': 0.0, 'ner': np.float32(30.854439)}\n"
     ]
    },
    {
     "name": "stderr",
     "output_type": "stream",
     "text": [
      "36it [01:16,  2.13s/it]\n"
     ]
    },
    {
     "name": "stdout",
     "output_type": "stream",
     "text": [
      "Epoch 65, Losses: {'transformer': 0.0, 'ner': np.float32(24.057842)}\n"
     ]
    },
    {
     "name": "stderr",
     "output_type": "stream",
     "text": [
      "36it [01:35,  2.66s/it]\n"
     ]
    },
    {
     "name": "stdout",
     "output_type": "stream",
     "text": [
      "Epoch 66, Losses: {'transformer': 0.0, 'ner': np.float32(17.17992)}\n"
     ]
    },
    {
     "name": "stderr",
     "output_type": "stream",
     "text": [
      "36it [01:19,  2.22s/it]\n"
     ]
    },
    {
     "name": "stdout",
     "output_type": "stream",
     "text": [
      "Epoch 67, Losses: {'transformer': 0.0, 'ner': np.float32(15.526397)}\n"
     ]
    },
    {
     "name": "stderr",
     "output_type": "stream",
     "text": [
      "36it [01:11,  1.99s/it]\n"
     ]
    },
    {
     "name": "stdout",
     "output_type": "stream",
     "text": [
      "Epoch 68, Losses: {'transformer': 0.0, 'ner': np.float32(28.801867)}\n"
     ]
    },
    {
     "name": "stderr",
     "output_type": "stream",
     "text": [
      "36it [01:09,  1.94s/it]\n"
     ]
    },
    {
     "name": "stdout",
     "output_type": "stream",
     "text": [
      "Epoch 69, Losses: {'transformer': 0.0, 'ner': np.float32(19.41264)}\n"
     ]
    },
    {
     "name": "stderr",
     "output_type": "stream",
     "text": [
      "36it [01:10,  1.96s/it]\n"
     ]
    },
    {
     "name": "stdout",
     "output_type": "stream",
     "text": [
      "Epoch 70, Losses: {'transformer': 0.0, 'ner': np.float32(20.220097)}\n"
     ]
    },
    {
     "name": "stderr",
     "output_type": "stream",
     "text": [
      "36it [02:52,  4.81s/it]\n"
     ]
    },
    {
     "name": "stdout",
     "output_type": "stream",
     "text": [
      "Epoch 71, Losses: {'transformer': 0.0, 'ner': np.float32(31.407755)}\n"
     ]
    },
    {
     "name": "stderr",
     "output_type": "stream",
     "text": [
      "36it [04:06,  6.84s/it]\n"
     ]
    },
    {
     "name": "stdout",
     "output_type": "stream",
     "text": [
      "Epoch 72, Losses: {'transformer': 0.0, 'ner': np.float32(29.61544)}\n"
     ]
    },
    {
     "name": "stderr",
     "output_type": "stream",
     "text": [
      "36it [04:07,  6.87s/it]\n"
     ]
    },
    {
     "name": "stdout",
     "output_type": "stream",
     "text": [
      "Epoch 73, Losses: {'transformer': 0.0, 'ner': np.float32(41.861652)}\n"
     ]
    },
    {
     "name": "stderr",
     "output_type": "stream",
     "text": [
      "36it [04:02,  6.74s/it]\n"
     ]
    },
    {
     "name": "stdout",
     "output_type": "stream",
     "text": [
      "Epoch 74, Losses: {'transformer': 0.0, 'ner': np.float32(153.71074)}\n"
     ]
    },
    {
     "name": "stderr",
     "output_type": "stream",
     "text": [
      "36it [04:03,  6.77s/it]\n"
     ]
    },
    {
     "name": "stdout",
     "output_type": "stream",
     "text": [
      "Epoch 75, Losses: {'transformer': 0.0, 'ner': np.float32(42.313744)}\n"
     ]
    },
    {
     "name": "stderr",
     "output_type": "stream",
     "text": [
      "36it [01:19,  2.20s/it]\n"
     ]
    },
    {
     "name": "stdout",
     "output_type": "stream",
     "text": [
      "Epoch 76, Losses: {'transformer': 0.0, 'ner': np.float32(15.790389)}\n"
     ]
    },
    {
     "name": "stderr",
     "output_type": "stream",
     "text": [
      "36it [01:11,  1.99s/it]\n"
     ]
    },
    {
     "name": "stdout",
     "output_type": "stream",
     "text": [
      "Epoch 77, Losses: {'transformer': 0.0, 'ner': np.float32(113.2761)}\n"
     ]
    },
    {
     "name": "stderr",
     "output_type": "stream",
     "text": [
      "36it [01:13,  2.03s/it]\n"
     ]
    },
    {
     "name": "stdout",
     "output_type": "stream",
     "text": [
      "Epoch 78, Losses: {'transformer': 0.0, 'ner': np.float32(33.948845)}\n"
     ]
    },
    {
     "name": "stderr",
     "output_type": "stream",
     "text": [
      "36it [01:30,  2.52s/it]\n"
     ]
    },
    {
     "name": "stdout",
     "output_type": "stream",
     "text": [
      "Epoch 79, Losses: {'transformer': 0.0, 'ner': np.float32(30.592773)}\n"
     ]
    },
    {
     "name": "stderr",
     "output_type": "stream",
     "text": [
      "36it [01:37,  2.70s/it]\n"
     ]
    },
    {
     "name": "stdout",
     "output_type": "stream",
     "text": [
      "Epoch 80, Losses: {'transformer': 0.0, 'ner': np.float32(14.9271145)}\n"
     ]
    },
    {
     "name": "stderr",
     "output_type": "stream",
     "text": [
      "36it [01:37,  2.70s/it]\n"
     ]
    },
    {
     "name": "stdout",
     "output_type": "stream",
     "text": [
      "Epoch 81, Losses: {'transformer': 0.0, 'ner': np.float32(12.069328)}\n"
     ]
    },
    {
     "name": "stderr",
     "output_type": "stream",
     "text": [
      "36it [01:37,  2.70s/it]\n"
     ]
    },
    {
     "name": "stdout",
     "output_type": "stream",
     "text": [
      "Epoch 82, Losses: {'transformer': 0.0, 'ner': np.float32(20.716698)}\n"
     ]
    },
    {
     "name": "stderr",
     "output_type": "stream",
     "text": [
      "36it [01:36,  2.67s/it]\n"
     ]
    },
    {
     "name": "stdout",
     "output_type": "stream",
     "text": [
      "Epoch 83, Losses: {'transformer': 0.0, 'ner': np.float32(14.504044)}\n"
     ]
    },
    {
     "name": "stderr",
     "output_type": "stream",
     "text": [
      "36it [01:35,  2.64s/it]\n"
     ]
    },
    {
     "name": "stdout",
     "output_type": "stream",
     "text": [
      "Epoch 84, Losses: {'transformer': 0.0, 'ner': np.float32(10.120674)}\n"
     ]
    },
    {
     "name": "stderr",
     "output_type": "stream",
     "text": [
      "36it [01:35,  2.66s/it]\n"
     ]
    },
    {
     "name": "stdout",
     "output_type": "stream",
     "text": [
      "Epoch 85, Losses: {'transformer': 0.0, 'ner': np.float32(9.6668)}\n"
     ]
    },
    {
     "name": "stderr",
     "output_type": "stream",
     "text": [
      "36it [01:36,  2.69s/it]\n"
     ]
    },
    {
     "name": "stdout",
     "output_type": "stream",
     "text": [
      "Epoch 86, Losses: {'transformer': 0.0, 'ner': np.float32(13.116548)}\n"
     ]
    },
    {
     "name": "stderr",
     "output_type": "stream",
     "text": [
      "36it [01:35,  2.66s/it]\n"
     ]
    },
    {
     "name": "stdout",
     "output_type": "stream",
     "text": [
      "Epoch 87, Losses: {'transformer': 0.0, 'ner': np.float32(15.872009)}\n"
     ]
    },
    {
     "name": "stderr",
     "output_type": "stream",
     "text": [
      "36it [01:36,  2.67s/it]\n"
     ]
    },
    {
     "name": "stdout",
     "output_type": "stream",
     "text": [
      "Epoch 88, Losses: {'transformer': 0.0, 'ner': np.float32(13.183422)}\n"
     ]
    },
    {
     "name": "stderr",
     "output_type": "stream",
     "text": [
      "36it [01:36,  2.68s/it]\n"
     ]
    },
    {
     "name": "stdout",
     "output_type": "stream",
     "text": [
      "Epoch 89, Losses: {'transformer': 0.0, 'ner': np.float32(8.464504)}\n"
     ]
    },
    {
     "name": "stderr",
     "output_type": "stream",
     "text": [
      "36it [01:36,  2.68s/it]\n"
     ]
    },
    {
     "name": "stdout",
     "output_type": "stream",
     "text": [
      "Epoch 90, Losses: {'transformer': 0.0, 'ner': np.float32(13.635391)}\n"
     ]
    },
    {
     "name": "stderr",
     "output_type": "stream",
     "text": [
      "36it [01:36,  2.68s/it]\n"
     ]
    },
    {
     "name": "stdout",
     "output_type": "stream",
     "text": [
      "Epoch 91, Losses: {'transformer': 0.0, 'ner': np.float32(10.635466)}\n"
     ]
    },
    {
     "name": "stderr",
     "output_type": "stream",
     "text": [
      "36it [01:37,  2.71s/it]\n"
     ]
    },
    {
     "name": "stdout",
     "output_type": "stream",
     "text": [
      "Epoch 92, Losses: {'transformer': 0.0, 'ner': np.float32(52.894005)}\n"
     ]
    },
    {
     "name": "stderr",
     "output_type": "stream",
     "text": [
      "36it [01:37,  2.71s/it]\n"
     ]
    },
    {
     "name": "stdout",
     "output_type": "stream",
     "text": [
      "Epoch 93, Losses: {'transformer': 0.0, 'ner': np.float32(9.243723)}\n"
     ]
    },
    {
     "name": "stderr",
     "output_type": "stream",
     "text": [
      "36it [03:13,  5.36s/it]\n"
     ]
    },
    {
     "name": "stdout",
     "output_type": "stream",
     "text": [
      "Epoch 94, Losses: {'transformer': 0.0, 'ner': np.float32(8.920497)}\n"
     ]
    },
    {
     "name": "stderr",
     "output_type": "stream",
     "text": [
      "36it [04:11,  6.98s/it]\n"
     ]
    },
    {
     "name": "stdout",
     "output_type": "stream",
     "text": [
      "Epoch 95, Losses: {'transformer': 0.0, 'ner': np.float32(11.594985)}\n"
     ]
    },
    {
     "name": "stderr",
     "output_type": "stream",
     "text": [
      "36it [04:06,  6.83s/it]\n"
     ]
    },
    {
     "name": "stdout",
     "output_type": "stream",
     "text": [
      "Epoch 96, Losses: {'transformer': 0.0, 'ner': np.float32(12.791665)}\n"
     ]
    },
    {
     "name": "stderr",
     "output_type": "stream",
     "text": [
      "36it [04:09,  6.94s/it]\n"
     ]
    },
    {
     "name": "stdout",
     "output_type": "stream",
     "text": [
      "Epoch 97, Losses: {'transformer': 0.0, 'ner': np.float32(12.308514)}\n"
     ]
    },
    {
     "name": "stderr",
     "output_type": "stream",
     "text": [
      "36it [05:30,  9.18s/it]\n"
     ]
    },
    {
     "name": "stdout",
     "output_type": "stream",
     "text": [
      "Epoch 98, Losses: {'transformer': 0.0, 'ner': np.float32(13.290091)}\n"
     ]
    },
    {
     "name": "stderr",
     "output_type": "stream",
     "text": [
      "36it [05:35,  9.33s/it]\n"
     ]
    },
    {
     "name": "stdout",
     "output_type": "stream",
     "text": [
      "Epoch 99, Losses: {'transformer': 0.0, 'ner': np.float32(15.444285)}\n"
     ]
    },
    {
     "name": "stderr",
     "output_type": "stream",
     "text": [
      "36it [02:44,  4.58s/it]"
     ]
    },
    {
     "name": "stdout",
     "output_type": "stream",
     "text": [
      "Epoch 100, Losses: {'transformer': 0.0, 'ner': np.float32(11.513182)}\n"
     ]
    },
    {
     "name": "stderr",
     "output_type": "stream",
     "text": [
      "\n"
     ]
    }
   ],
   "execution_count": 24
  },
  {
   "metadata": {
    "ExecuteTime": {
     "end_time": "2025-08-02T17:05:54.396422Z",
     "start_time": "2025-08-02T17:05:38.086468Z"
    }
   },
   "cell_type": "code",
   "source": [
    "nlp.to_disk(\"custom_legal_ner_spacy_100\")\n",
    "# Later\n",
    "nlp = spacy.load(\"custom_legal_ner_spacy_100\")"
   ],
   "id": "576c868de0062d07",
   "outputs": [],
   "execution_count": 25
  },
  {
   "metadata": {
    "ExecuteTime": {
     "end_time": "2025-08-02T17:06:09.326265Z",
     "start_time": "2025-08-02T17:06:08.462003Z"
    }
   },
   "cell_type": "code",
   "source": [
    "doc = nlp(\"This Lease Agreement (\\\"Agreement\\\") is entered into on January 1, 2005, by and between: LESSOR: Union Pacific Railroad Company (\\\"Landlord\\\") LESSEE: CXT Incorporated (\\\"Tenant\\\")PROPERTY: The Landlord hereby leases to the Tenant the residential property located at: Grand Island, Nebraska 1. TERM OF LEASE The term of this lease shall commence on January 1, 2005 and shall terminate on December 31, 2009. This Agreement shall be considered a fixed-term lease. 2. RENT The Tenant agrees to pay the Landlord a monthly rent of $1,378. Rent is due on the 1st day of each month. If rent is not received by the 5th day of the month, a late fee of $50.00 will be assessed. 3. SECURITY DEPOSIT Upon execution of this Agreement, Tenant shall deposit with Landlord the sum of $5,000 as a security deposit. This deposit shall be held by the Landlord as security for the faithful performance by the Tenant of all terms, covenants, and conditions of this Agreement.\")\n",
    "for ent in doc.ents:\n",
    "    print(ent.text, ent.label_)"
   ],
   "id": "6fce87dbf274bf5a",
   "outputs": [
    {
     "name": "stdout",
     "output_type": "stream",
     "text": [
      "Union Pacific Railroad Company LESSOR_NAME\n",
      "CXT Incorporated LESSEE_NAME\n",
      "December 31, 2009 LEASE_END_DATE\n",
      "$1,378 RENT_AMOUNT\n",
      "$5,000 SECURITY_DEPOSIT_AMOUNT\n"
     ]
    }
   ],
   "execution_count": 26
  },
  {
   "metadata": {
    "ExecuteTime": {
     "end_time": "2025-08-02T17:06:16.275305Z",
     "start_time": "2025-08-02T17:06:16.247548Z"
    }
   },
   "cell_type": "code",
   "source": "print(doc.ents)",
   "id": "9c063963a6515dbc",
   "outputs": [
    {
     "name": "stdout",
     "output_type": "stream",
     "text": [
      "(Union Pacific Railroad Company, CXT Incorporated, December 31, 2009, $1,378, $5,000)\n"
     ]
    }
   ],
   "execution_count": 27
  },
  {
   "metadata": {
    "ExecuteTime": {
     "end_time": "2025-08-03T15:16:44.471027Z",
     "start_time": "2025-08-03T15:16:27.319101Z"
    }
   },
   "cell_type": "code",
   "source": [
    "import spacy\n",
    "# Later\n",
    "nlp = spacy.load(\"custom_legal_ner_spacy_100\")"
   ],
   "id": "28e94a95c6da8918",
   "outputs": [
    {
     "name": "stderr",
     "output_type": "stream",
     "text": [
      "D:\\NEU\\Summer2025\\NLP\\Assignments\\.venv\\Lib\\site-packages\\spacy_transformers\\layers\\hf_shim.py:124: FutureWarning: You are using `torch.load` with `weights_only=False` (the current default value), which uses the default pickle module implicitly. It is possible to construct malicious pickle data which will execute arbitrary code during unpickling (See https://github.com/pytorch/pytorch/blob/main/SECURITY.md#untrusted-models for more details). In a future release, the default value for `weights_only` will be flipped to `True`. This limits the functions that could be executed during unpickling. Arbitrary objects will no longer be allowed to be loaded via this mode unless they are explicitly allowlisted by the user via `torch.serialization.add_safe_globals`. We recommend you start setting `weights_only=True` for any use case where you don't have full control of the loaded file. Please open an issue on GitHub for any issues related to this experimental feature.\n",
      "  self._model.load_state_dict(torch.load(filelike, map_location=device))\n"
     ]
    }
   ],
   "execution_count": 2
  },
  {
   "metadata": {
    "ExecuteTime": {
     "end_time": "2025-08-03T15:23:18.106643Z",
     "start_time": "2025-08-03T15:23:18.095880Z"
    }
   },
   "cell_type": "code",
   "source": [
    "import os\n",
    "from docx import Document\n",
    "import pandas as pd\n",
    "\n",
    "dataframe = []\n",
    "def read_docx_directory(folder_path):\n",
    "    for filename in os.listdir(folder_path):\n",
    "        if filename.endswith(\".docx\"):\n",
    "            file_path = os.path.join(folder_path, filename)\n",
    "            try:\n",
    "                doc = Document(file_path)\n",
    "                text = \"\\n\".join([para.text for para in doc.paragraphs if para.text.strip()])\n",
    "                doc_res = nlp(text)\n",
    "                desired_path = file_path.replace(\"\\\\\", \"/\")\n",
    "                res = {'FILE_PATH' : desired_path,}\n",
    "                for ent in doc_res.ents:\n",
    "                    res[ent.label_] = ent.text\n",
    "                dataframe.append(res)\n",
    "\n",
    "            except Exception as e:\n",
    "                print(f\"Error reading {filename}: {e}\")\n",
    "    return pd.DataFrame(dataframe)\n"
   ],
   "id": "29e5a3c4c5c24ecf",
   "outputs": [],
   "execution_count": 15
  },
  {
   "metadata": {
    "ExecuteTime": {
     "end_time": "2025-08-03T15:23:45.787531Z",
     "start_time": "2025-08-03T15:23:19.247851Z"
    }
   },
   "cell_type": "code",
   "source": "results = read_docx_directory(\"../datasets/dataset-master/testing\")",
   "id": "789212e97b6b5597",
   "outputs": [],
   "execution_count": 16
  },
  {
   "metadata": {
    "ExecuteTime": {
     "end_time": "2025-08-03T15:24:43.717924Z",
     "start_time": "2025-08-03T15:24:43.703886Z"
    }
   },
   "cell_type": "code",
   "source": "results.to_csv(\"spacy_bert_result.csv\")",
   "id": "3fb43590120885e4",
   "outputs": [],
   "execution_count": 17
  }
 ],
 "metadata": {
  "kernelspec": {
   "display_name": "Python 3",
   "language": "python",
   "name": "python3"
  },
  "language_info": {
   "codemirror_mode": {
    "name": "ipython",
    "version": 2
   },
   "file_extension": ".py",
   "mimetype": "text/x-python",
   "name": "python",
   "nbconvert_exporter": "python",
   "pygments_lexer": "ipython2",
   "version": "2.7.6"
  }
 },
 "nbformat": 4,
 "nbformat_minor": 5
}
