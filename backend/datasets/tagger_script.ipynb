{
 "cells": [
  {
   "cell_type": "code",
   "execution_count": 3,
   "id": "4f5aea71",
   "metadata": {},
   "outputs": [],
   "source": [
    "from docx import Document"
   ]
  },
  {
   "cell_type": "code",
   "execution_count": 4,
   "id": "dff71451",
   "metadata": {},
   "outputs": [],
   "source": [
    "def get_start_end(text, substring):\n",
    "    start = text.index(substring)\n",
    "    end = start + len(substring)\n",
    "    print(text[start:end + 1])\n",
    "    return f\"{start} - {end} \\n\""
   ]
  },
  {
   "cell_type": "code",
   "execution_count": 8,
   "id": "9ff6b0f3",
   "metadata": {},
   "outputs": [
    {
     "ename": "UnicodeDecodeError",
     "evalue": "'utf-8' codec can't decode byte 0xe4 in position 14: invalid continuation byte",
     "output_type": "error",
     "traceback": [
      "\u001b[0;31m---------------------------------------------------------------------------\u001b[0m",
      "\u001b[0;31mUnicodeDecodeError\u001b[0m                        Traceback (most recent call last)",
      "Cell \u001b[0;32mIn[8], line 2\u001b[0m\n\u001b[1;32m      1\u001b[0m f \u001b[38;5;241m=\u001b[39m \u001b[38;5;28mopen\u001b[39m(\u001b[38;5;124m\"\u001b[39m\u001b[38;5;124m/Users/akshaychavan/Documents/college/NLP/Lease-Buddy/backend/datasets/dataset-master/testing/Lease_Agreement_Test16.docx\u001b[39m\u001b[38;5;124m\"\u001b[39m)\n\u001b[0;32m----> 2\u001b[0m text \u001b[38;5;241m=\u001b[39m \u001b[43mf\u001b[49m\u001b[38;5;241;43m.\u001b[39;49m\u001b[43mread\u001b[49m\u001b[43m(\u001b[49m\u001b[43m)\u001b[49m\n\u001b[1;32m      3\u001b[0m n \u001b[38;5;241m=\u001b[39m \u001b[38;5;28mlen\u001b[39m(text)\n\u001b[1;32m      4\u001b[0m \u001b[38;5;28mprint\u001b[39m(\u001b[38;5;124m\"\u001b[39m\u001b[38;5;124m---- LESSOR_NAME ----\u001b[39m\u001b[38;5;124m\"\u001b[39m)\n",
      "File \u001b[0;32m/Library/Developer/CommandLineTools/Library/Frameworks/Python3.framework/Versions/3.9/lib/python3.9/codecs.py:322\u001b[0m, in \u001b[0;36mBufferedIncrementalDecoder.decode\u001b[0;34m(self, input, final)\u001b[0m\n\u001b[1;32m    319\u001b[0m \u001b[38;5;28;01mdef\u001b[39;00m\u001b[38;5;250m \u001b[39m\u001b[38;5;21mdecode\u001b[39m(\u001b[38;5;28mself\u001b[39m, \u001b[38;5;28minput\u001b[39m, final\u001b[38;5;241m=\u001b[39m\u001b[38;5;28;01mFalse\u001b[39;00m):\n\u001b[1;32m    320\u001b[0m     \u001b[38;5;66;03m# decode input (taking the buffer into account)\u001b[39;00m\n\u001b[1;32m    321\u001b[0m     data \u001b[38;5;241m=\u001b[39m \u001b[38;5;28mself\u001b[39m\u001b[38;5;241m.\u001b[39mbuffer \u001b[38;5;241m+\u001b[39m \u001b[38;5;28minput\u001b[39m\n\u001b[0;32m--> 322\u001b[0m     (result, consumed) \u001b[38;5;241m=\u001b[39m \u001b[38;5;28;43mself\u001b[39;49m\u001b[38;5;241;43m.\u001b[39;49m\u001b[43m_buffer_decode\u001b[49m\u001b[43m(\u001b[49m\u001b[43mdata\u001b[49m\u001b[43m,\u001b[49m\u001b[43m \u001b[49m\u001b[38;5;28;43mself\u001b[39;49m\u001b[38;5;241;43m.\u001b[39;49m\u001b[43merrors\u001b[49m\u001b[43m,\u001b[49m\u001b[43m \u001b[49m\u001b[43mfinal\u001b[49m\u001b[43m)\u001b[49m\n\u001b[1;32m    323\u001b[0m     \u001b[38;5;66;03m# keep undecoded input until the next call\u001b[39;00m\n\u001b[1;32m    324\u001b[0m     \u001b[38;5;28mself\u001b[39m\u001b[38;5;241m.\u001b[39mbuffer \u001b[38;5;241m=\u001b[39m data[consumed:]\n",
      "\u001b[0;31mUnicodeDecodeError\u001b[0m: 'utf-8' codec can't decode byte 0xe4 in position 14: invalid continuation byte"
     ]
    }
   ],
   "source": [
    "f = open(\"/Users/akshaychavan/Documents/college/NLP/Lease-Buddy/backend/datasets/dataset-master/testing/Lease_Agreement_Test16.docx\")\n",
    "text = f.read()\n",
    "n = len(text)\n",
    "print(\"---- LESSOR_NAME ----\")\n",
    "lessor = 'YOUXIN LIMITED'\n",
    "print(get_start_end(text, lessor))\n",
    "\n",
    "print(\"---- LESSEE_NAME ----\")\n",
    "lessee = 'PERFECT HARMONY GROUP LIMITED'\n",
    "print(get_start_end(text, lessee))\n",
    "\n",
    "print(\"---- PROPERTY_ADDRESS ----\")\n",
    "address = 'Shanghai'\n",
    "print(get_start_end(text, address))\n",
    "\n",
    "print(\"---- LEASE_START_DATE ----\")\n",
    "start_date = 'commence on June 10, 2020'\n",
    "start = text.index(start_date) + len('commence on ')\n",
    "end = start + len(start_date) - len('commence on ')\n",
    "print(f\"{start} - {end}\")\n",
    "print(text[start:end + 1], \"\\n\")\n",
    "\n",
    "print(\"---- LEASE_END_DATE ----\")\n",
    "end_date = 'June 9, 2025'\n",
    "print(get_start_end(text, end_date))\n",
    "\n",
    "print(\"---- RENT_AMOUNT ----\")\n",
    "rent = '$2500'\n",
    "print(get_start_end(text, rent))\n",
    "\n",
    "print(\"---- SECURITY_DEPOSIT_AMOUNT ----\")\n",
    "security_deposit = '$2000'\n",
    "print(get_start_end(text, security_deposit))"
   ]
  },
  {
   "cell_type": "markdown",
   "id": "27dfd883",
   "metadata": {},
   "source": [
    "## Tagging for raw dataset"
   ]
  },
  {
   "cell_type": "code",
   "execution_count": 5,
   "id": "1383bd72",
   "metadata": {},
   "outputs": [],
   "source": [
    "# Function to extract text from a .docx file\n",
    "def extract_text_from_docx(docx_path):\n",
    "    doc = Document(docx_path)\n",
    "    return \"\\n\".join([para.text for para in doc.paragraphs])\n",
    "\n",
    "# Dummy get_start_end function if not defined\n",
    "def get_start_end(text, phrase):\n",
    "    try:\n",
    "        start = text.index(phrase)\n",
    "        end = start + len(phrase)\n",
    "        return f\"{start} - {end}\", text[start:end]\n",
    "    except ValueError:\n",
    "        return \"Not found\", None"
   ]
  },
  {
   "cell_type": "code",
   "execution_count": 6,
   "id": "c0b088d8",
   "metadata": {},
   "outputs": [
    {
     "name": "stdout",
     "output_type": "stream",
     "text": [
      "---- LESSOR_NAME ----\n",
      "('126 - 148', 'STECAR PROPERTIES, LLC')\n",
      "---- LESSEE_NAME ----\n",
      "('Not found', None)\n",
      "---- PROPERTY_ADDRESS ----\n",
      "('293 - 334', '11480 Industrial Parkway, Castroville, CA')\n",
      "---- LEASE_START_DATE ----\n",
      "394 - 409\n",
      "January 1, 2006  \n",
      "\n",
      "---- LEASE_END_DATE ----\n",
      "('433 - 450', 'December 31, 2015')\n",
      "---- RENT_AMOUNT ----\n",
      "('572 - 577', '$3000')\n",
      "---- SECURITY_DEPOSIT_AMOUNT ----\n",
      "('814 - 819', '$1000')\n"
     ]
    }
   ],
   "source": [
    "# Path to your .docx file\n",
    "docx_path = \"/Users/akshaychavan/Documents/college/NLP/Lease-Buddy/backend/datasets/dataset-master/testing/Lease_Agreement_Test7.docx\"\n",
    "\n",
    "# Extract text\n",
    "text = extract_text_from_docx(docx_path)\n",
    "n = len(text)\n",
    "\n",
    "print(\"---- LESSOR_NAME ----\")\n",
    "lessor = 'STECAR PROPERTIES, LLC'\n",
    "print(get_start_end(text, lessor))\n",
    "\n",
    "print(\"---- LESSEE_NAME ----\")\n",
    "lessee = 'YDIEDRICH COFFEE, INC.'\n",
    "print(get_start_end(text, lessee))\n",
    "\n",
    "print(\"---- PROPERTY_ADDRESS ----\")\n",
    "address = '11480 Industrial Parkway, Castroville, CA'\n",
    "print(get_start_end(text, address))\n",
    "\n",
    "print(\"---- LEASE_START_DATE ----\")\n",
    "start_date = 'commence on January 1, 2006'\n",
    "start = text.index(start_date) + len('commence on ')\n",
    "end = start + len(start_date) - len('commence on ')\n",
    "print(f\"{start} - {end}\")\n",
    "print(text[start:end + 1], \"\\n\")\n",
    "\n",
    "print(\"---- LEASE_END_DATE ----\")\n",
    "end_date = 'December 31, 2015'\n",
    "print(get_start_end(text, end_date))\n",
    "\n",
    "print(\"---- RENT_AMOUNT ----\")\n",
    "rent = '$3000'\n",
    "print(get_start_end(text, rent))\n",
    "\n",
    "print(\"---- SECURITY_DEPOSIT_AMOUNT ----\")\n",
    "security_deposit = '$1000'\n",
    "print(get_start_end(text, security_deposit))"
   ]
  },
  {
   "cell_type": "code",
   "execution_count": null,
   "id": "27420055",
   "metadata": {},
   "outputs": [],
   "source": []
  }
 ],
 "metadata": {
  "kernelspec": {
   "display_name": "Python 3",
   "language": "python",
   "name": "python3"
  },
  "language_info": {
   "codemirror_mode": {
    "name": "ipython",
    "version": 3
   },
   "file_extension": ".py",
   "mimetype": "text/x-python",
   "name": "python",
   "nbconvert_exporter": "python",
   "pygments_lexer": "ipython3",
   "version": "3.9.6"
  }
 },
 "nbformat": 4,
 "nbformat_minor": 5
}
