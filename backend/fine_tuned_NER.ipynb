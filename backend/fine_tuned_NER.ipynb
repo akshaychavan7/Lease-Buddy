{
 "cells": [
  {
   "cell_type": "code",
   "execution_count": 2,
   "id": "4d2abf51",
   "metadata": {},
   "outputs": [
    {
     "name": "stderr",
     "output_type": "stream",
     "text": [
      "/Users/akshaychavan/Library/Python/3.9/lib/python/site-packages/urllib3/__init__.py:35: NotOpenSSLWarning: urllib3 v2 only supports OpenSSL 1.1.1+, currently the 'ssl' module is compiled with 'LibreSSL 2.8.3'. See: https://github.com/urllib3/urllib3/issues/3020\n",
      "  warnings.warn(\n"
     ]
    }
   ],
   "source": [
    "import random\n",
    "import spacy\n",
    "from spacy.util import minibatch\n",
    "from spacy.training.example import Example"
   ]
  },
  {
   "cell_type": "code",
   "execution_count": 3,
   "id": "914f9791",
   "metadata": {},
   "outputs": [
    {
     "name": "stdout",
     "output_type": "stream",
     "text": [
      "[('\\nRESIDENTIAL LEASE AGREEMENT\\n\\nThis Lease Agreement (\"Agreement\") is entered into on May 26, 2025, by and between:\\n\\nLESSOR: Ashley Martinez (\"Landlord\")\\nLESSEE: Sarah Williams (\"Tenant\")\\n\\nPROPERTY: The Landlord hereby leases to the Tenant the residential property located at:\\n5316 Pine Rd, Franklin, CA 70457\\n\\n1. TERM OF LEASE\\nThe term of this lease shall commence on May 26, 2025 and shall terminate on May 26, 2026. This Agreement shall be considered a fixed-term lease.\\n\\n2. RENT\\nThe Tenant agrees to pay the Landlord a monthly rent of $1038. Rent is due on the 1st day of each month. If rent is not received by the 5th day of the month, a late fee of $50.00 will be assessed.\\n\\n3. SECURITY DEPOSIT\\nUpon execution of this Agreement, Tenant shall deposit with Landlord the sum of $1245 as a security deposit. This deposit shall be held by the Landlord as security for the faithful performance by the Tenant of all terms, covenants, and conditions of this Agreement.\\n\\n4. USE OF PREMISES\\nThe premises shall be used and occupied by the Tenant exclusively as a private residential dwelling. No part of the premises shall be used for any business or commercial purpose.\\n\\n5. UTILITIES\\nThe Tenant shall be responsible for payment of all utilities and services, including but not limited to electricity, gas, water, sewer, trash removal, cable, and internet services.\\n\\n6. MAINTENANCE AND REPAIRS\\nThe Tenant shall maintain the premises in good, clean, and sanitary condition. The Tenant shall promptly notify the Landlord of any damage, defects, or dangerous conditions on the premises.\\n\\n7. ALTERATIONS\\nThe Tenant shall not make any alterations, additions, or improvements to the premises without the prior written consent of the Landlord.\\n\\n8. PETS\\nNo pets shall be allowed on the premises without the prior written consent of the Landlord. If permission is granted, an additional pet deposit may be required.\\n\\n9. SUBLETTING\\nThe Tenant shall not sublet the premises or any part thereof, nor assign this lease, without the prior written consent of the Landlord.\\n\\n10. RIGHT OF ENTRY\\nThe Landlord reserves the right to enter the premises with reasonable notice (except in cases of emergency) for the purpose of inspection, repairs, or showing the property to prospective tenants or buyers.\\n\\n11. TERMINATION\\nUpon termination of this lease, the Tenant shall surrender the premises in as good condition as when received, reasonable wear and tear excepted. The Tenant shall remove all personal property and clean the premises thoroughly.\\n\\n12. DEFAULT\\nIf the Tenant fails to pay rent when due or breaches any other term of this Agreement, the Landlord may terminate this lease with proper notice as required by law.\\n\\n13. GOVERNING LAW\\nThis Agreement shall be governed by the laws of the state in which the property is located.\\n\\n14. ENTIRE AGREEMENT\\nThis Agreement constitutes the entire agreement between the parties and supersedes all prior negotiations, representations, or agreements, whether written or oral.\\n\\n15. SEVERABILITY\\nIf any provision of this Agreement is held to be invalid or unenforceable, the remaining provisions shall continue in full force and effect.\\n\\n16. ADDITIONAL TERMS AND CONDITIONS\\n[Space for any additional terms agreed upon by both parties]\\n\\n_________________________________________________\\n\\n_________________________________________________\\n\\n_________________________________________________\\n\\n\\nSIGNATURES\\n\\nLANDLORD:\\nSignature: _________________________________ Date: _____________\\nPrint Name: Ashley Martinez\\n\\nTENANT:\\nSignature: _________________________________ Date: _____________\\nPrint Name: Sarah Williams\\n\\nACKNOWLEDGMENT\\nBy signing above, both parties acknowledge that they have read, understood, and agree to be bound by all terms and conditions of this Lease Agreement.\\n', {'entities': [(123, 138, 'LESSOR_NAME'), (160, 174, 'LESSEE_NAME'), (275, 307, 'PROPERTY_ADDRESS'), (367, 379, 'LEASE_START_DATE'), (403, 415, 'LEASE_END_DATE'), (537, 542, 'RENT_AMOUNT'), (779, 784, 'SECURITY_DEPOSIT_AMOUNT')]}), ('\\nRESIDENTIAL LEASE AGREEMENT\\n\\nThis Lease Agreement (\"Agreement\") is entered into on December 16, 2024, by and between:\\n\\nLESSOR: Ashley Jones (\"Landlord\")\\nLESSEE: Jessica Miller (\"Tenant\")\\n\\nPROPERTY: The Landlord hereby leases to the Tenant the residential property located at:\\n538 Spruce Ct, Springfield, NY 82660\\n\\n1. TERM OF LEASE\\nThe term of this lease shall commence on December 16, 2024 and shall terminate on December 16, 2025. This Agreement shall be considered a fixed-term lease.\\n\\n2. RENT\\nThe Tenant agrees to pay the Landlord a monthly rent of $1746. Rent is due on the 1st day of each month. If rent is not received by the 5th day of the month, a late fee of $50.00 will be assessed.\\n\\n3. SECURITY DEPOSIT\\nUpon execution of this Agreement, Tenant shall deposit with Landlord the sum of $2095 as a security deposit. This deposit shall be held by the Landlord as security for the faithful performance by the Tenant of all terms, covenants, and conditions of this Agreement.\\n\\n4. USE OF PREMISES\\nThe premises shall be used and occupied by the Tenant exclusively as a private residential dwelling. No part of the premises shall be used for any business or commercial purpose.\\n\\n5. UTILITIES\\nThe Tenant shall be responsible for payment of all utilities and services, including but not limited to electricity, gas, water, sewer, trash removal, cable, and internet services.\\n\\n6. MAINTENANCE AND REPAIRS\\nThe Tenant shall maintain the premises in good, clean, and sanitary condition. The Tenant shall promptly notify the Landlord of any damage, defects, or dangerous conditions on the premises.\\n\\n7. ALTERATIONS\\nThe Tenant shall not make any alterations, additions, or improvements to the premises without the prior written consent of the Landlord.\\n\\n8. PETS\\nNo pets shall be allowed on the premises without the prior written consent of the Landlord. If permission is granted, an additional pet deposit may be required.\\n\\n9. SUBLETTING\\nThe Tenant shall not sublet the premises or any part thereof, nor assign this lease, without the prior written consent of the Landlord.\\n\\n10. RIGHT OF ENTRY\\nThe Landlord reserves the right to enter the premises with reasonable notice (except in cases of emergency) for the purpose of inspection, repairs, or showing the property to prospective tenants or buyers.\\n\\n11. TERMINATION\\nUpon termination of this lease, the Tenant shall surrender the premises in as good condition as when received, reasonable wear and tear excepted. The Tenant shall remove all personal property and clean the premises thoroughly.\\n\\n12. DEFAULT\\nIf the Tenant fails to pay rent when due or breaches any other term of this Agreement, the Landlord may terminate this lease with proper notice as required by law.\\n\\n13. GOVERNING LAW\\nThis Agreement shall be governed by the laws of the state in which the property is located.\\n\\n14. ENTIRE AGREEMENT\\nThis Agreement constitutes the entire agreement between the parties and supersedes all prior negotiations, representations, or agreements, whether written or oral.\\n\\n15. SEVERABILITY\\nIf any provision of this Agreement is held to be invalid or unenforceable, the remaining provisions shall continue in full force and effect.\\n\\n16. ADDITIONAL TERMS AND CONDITIONS\\n[Space for any additional terms agreed upon by both parties]\\n\\n_________________________________________________\\n\\n_________________________________________________\\n\\n_________________________________________________\\n\\n\\nSIGNATURES\\n\\nLANDLORD:\\nSignature: _________________________________ Date: _____________\\nPrint Name: Ashley Jones\\n\\nTENANT:\\nSignature: _________________________________ Date: _____________\\nPrint Name: Jessica Miller\\n\\nACKNOWLEDGMENT\\nBy signing above, both parties acknowledge that they have read, understood, and agree to be bound by all terms and conditions of this Lease Agreement.\\n', {'entities': [(128, 140, 'LESSOR_NAME'), (162, 176, 'LESSEE_NAME'), (277, 313, 'PROPERTY_ADDRESS'), (373, 390, 'LEASE_START_DATE'), (414, 431, 'LEASE_END_DATE'), (553, 558, 'RENT_AMOUNT'), (795, 800, 'SECURITY_DEPOSIT_AMOUNT')]}), ('\\nRESIDENTIAL LEASE AGREEMENT\\n\\nThis Lease Agreement (\"Agreement\") is entered into on September 20, 2024, by and between:\\n\\nLESSOR: Brian Miller (\"Landlord\")\\nLESSEE: Amanda Garcia (\"Tenant\")\\n\\nPROPERTY: The Landlord hereby leases to the Tenant the residential property located at:\\n1807 Chestnut Blvd, Fairview, CA 68967\\n\\n1. TERM OF LEASE\\nThe term of this lease shall commence on September 20, 2024 and shall terminate on September 20, 2025. This Agreement shall be considered a fixed-term lease.\\n\\n2. RENT\\nThe Tenant agrees to pay the Landlord a monthly rent of $2611. Rent is due on the 1st day of each month. If rent is not received by the 5th day of the month, a late fee of $50.00 will be assessed.\\n\\n3. SECURITY DEPOSIT\\nUpon execution of this Agreement, Tenant shall deposit with Landlord the sum of $3133 as a security deposit. This deposit shall be held by the Landlord as security for the faithful performance by the Tenant of all terms, covenants, and conditions of this Agreement.\\n\\n4. USE OF PREMISES\\nThe premises shall be used and occupied by the Tenant exclusively as a private residential dwelling. No part of the premises shall be used for any business or commercial purpose.\\n\\n5. UTILITIES\\nThe Tenant shall be responsible for payment of all utilities and services, including but not limited to electricity, gas, water, sewer, trash removal, cable, and internet services.\\n\\n6. MAINTENANCE AND REPAIRS\\nThe Tenant shall maintain the premises in good, clean, and sanitary condition. The Tenant shall promptly notify the Landlord of any damage, defects, or dangerous conditions on the premises.\\n\\n7. ALTERATIONS\\nThe Tenant shall not make any alterations, additions, or improvements to the premises without the prior written consent of the Landlord.\\n\\n8. PETS\\nNo pets shall be allowed on the premises without the prior written consent of the Landlord. If permission is granted, an additional pet deposit may be required.\\n\\n9. SUBLETTING\\nThe Tenant shall not sublet the premises or any part thereof, nor assign this lease, without the prior written consent of the Landlord.\\n\\n10. RIGHT OF ENTRY\\nThe Landlord reserves the right to enter the premises with reasonable notice (except in cases of emergency) for the purpose of inspection, repairs, or showing the property to prospective tenants or buyers.\\n\\n11. TERMINATION\\nUpon termination of this lease, the Tenant shall surrender the premises in as good condition as when received, reasonable wear and tear excepted. The Tenant shall remove all personal property and clean the premises thoroughly.\\n\\n12. DEFAULT\\nIf the Tenant fails to pay rent when due or breaches any other term of this Agreement, the Landlord may terminate this lease with proper notice as required by law.\\n\\n13. GOVERNING LAW\\nThis Agreement shall be governed by the laws of the state in which the property is located.\\n\\n14. ENTIRE AGREEMENT\\nThis Agreement constitutes the entire agreement between the parties and supersedes all prior negotiations, representations, or agreements, whether written or oral.\\n\\n15. SEVERABILITY\\nIf any provision of this Agreement is held to be invalid or unenforceable, the remaining provisions shall continue in full force and effect.\\n\\n16. ADDITIONAL TERMS AND CONDITIONS\\n[Space for any additional terms agreed upon by both parties]\\n\\n_________________________________________________\\n\\n_________________________________________________\\n\\n_________________________________________________\\n\\n\\nSIGNATURES\\n\\nLANDLORD:\\nSignature: _________________________________ Date: _____________\\nPrint Name: Brian Miller\\n\\nTENANT:\\nSignature: _________________________________ Date: _____________\\nPrint Name: Amanda Garcia\\n\\nACKNOWLEDGMENT\\nBy signing above, both parties acknowledge that they have read, understood, and agree to be bound by all terms and conditions of this Lease Agreement.\\n', {'entities': [(129, 141, 'LESSOR_NAME'), (163, 176, 'LESSEE_NAME'), (277, 315, 'PROPERTY_ADDRESS'), (375, 393, 'LEASE_START_DATE'), (417, 435, 'LEASE_END_DATE'), (557, 562, 'RENT_AMOUNT'), (799, 804, 'SECURITY_DEPOSIT_AMOUNT')]}), ('\\nRESIDENTIAL LEASE AGREEMENT\\n\\nThis Lease Agreement (\"Agreement\") is entered into on May 28, 2025, by and between:\\n\\nLESSOR: David Hernandez (\"Landlord\")\\nLESSEE: Michael Johnson (\"Tenant\")\\n\\nPROPERTY: The Landlord hereby leases to the Tenant the residential property located at:\\n2658 Elm St, Franklin, GA 71686\\n\\n1. TERM OF LEASE\\nThe term of this lease shall commence on May 28, 2025 and shall terminate on May 28, 2026. This Agreement shall be considered a fixed-term lease.\\n\\n2. RENT\\nThe Tenant agrees to pay the Landlord a monthly rent of $3330. Rent is due on the 1st day of each month. If rent is not received by the 5th day of the month, a late fee of $50.00 will be assessed.\\n\\n3. SECURITY DEPOSIT\\nUpon execution of this Agreement, Tenant shall deposit with Landlord the sum of $3996 as a security deposit. This deposit shall be held by the Landlord as security for the faithful performance by the Tenant of all terms, covenants, and conditions of this Agreement.\\n\\n4. USE OF PREMISES\\nThe premises shall be used and occupied by the Tenant exclusively as a private residential dwelling. No part of the premises shall be used for any business or commercial purpose.\\n\\n5. UTILITIES\\nThe Tenant shall be responsible for payment of all utilities and services, including but not limited to electricity, gas, water, sewer, trash removal, cable, and internet services.\\n\\n6. MAINTENANCE AND REPAIRS\\nThe Tenant shall maintain the premises in good, clean, and sanitary condition. The Tenant shall promptly notify the Landlord of any damage, defects, or dangerous conditions on the premises.\\n\\n7. ALTERATIONS\\nThe Tenant shall not make any alterations, additions, or improvements to the premises without the prior written consent of the Landlord.\\n\\n8. PETS\\nNo pets shall be allowed on the premises without the prior written consent of the Landlord. If permission is granted, an additional pet deposit may be required.\\n\\n9. SUBLETTING\\nThe Tenant shall not sublet the premises or any part thereof, nor assign this lease, without the prior written consent of the Landlord.\\n\\n10. RIGHT OF ENTRY\\nThe Landlord reserves the right to enter the premises with reasonable notice (except in cases of emergency) for the purpose of inspection, repairs, or showing the property to prospective tenants or buyers.\\n\\n11. TERMINATION\\nUpon termination of this lease, the Tenant shall surrender the premises in as good condition as when received, reasonable wear and tear excepted. The Tenant shall remove all personal property and clean the premises thoroughly.\\n\\n12. DEFAULT\\nIf the Tenant fails to pay rent when due or breaches any other term of this Agreement, the Landlord may terminate this lease with proper notice as required by law.\\n\\n13. GOVERNING LAW\\nThis Agreement shall be governed by the laws of the state in which the property is located.\\n\\n14. ENTIRE AGREEMENT\\nThis Agreement constitutes the entire agreement between the parties and supersedes all prior negotiations, representations, or agreements, whether written or oral.\\n\\n15. SEVERABILITY\\nIf any provision of this Agreement is held to be invalid or unenforceable, the remaining provisions shall continue in full force and effect.\\n\\n16. ADDITIONAL TERMS AND CONDITIONS\\n[Space for any additional terms agreed upon by both parties]\\n\\n_________________________________________________\\n\\n_________________________________________________\\n\\n_________________________________________________\\n\\n\\nSIGNATURES\\n\\nLANDLORD:\\nSignature: _________________________________ Date: _____________\\nPrint Name: David Hernandez\\n\\nTENANT:\\nSignature: _________________________________ Date: _____________\\nPrint Name: Michael Johnson\\n\\nACKNOWLEDGMENT\\nBy signing above, both parties acknowledge that they have read, understood, and agree to be bound by all terms and conditions of this Lease Agreement.\\n', {'entities': [(123, 138, 'LESSOR_NAME'), (160, 175, 'LESSEE_NAME'), (276, 307, 'PROPERTY_ADDRESS'), (367, 379, 'LEASE_START_DATE'), (403, 415, 'LEASE_END_DATE'), (537, 542, 'RENT_AMOUNT'), (779, 784, 'SECURITY_DEPOSIT_AMOUNT')]}), ('\\nRESIDENTIAL LEASE AGREEMENT\\n\\nThis Lease Agreement (\"Agreement\") is entered into on March 17, 2025, by and between:\\n\\nLESSOR: John Davis (\"Landlord\")\\nLESSEE: James Jones (\"Tenant\")\\n\\nPROPERTY: The Landlord hereby leases to the Tenant the residential property located at:\\n7056 Pine Rd, Greenville, PA 75931\\n\\n1. TERM OF LEASE\\nThe term of this lease shall commence on March 17, 2025 and shall terminate on March 17, 2026. This Agreement shall be considered a fixed-term lease.\\n\\n2. RENT\\nThe Tenant agrees to pay the Landlord a monthly rent of $3285. Rent is due on the 1st day of each month. If rent is not received by the 5th day of the month, a late fee of $50.00 will be assessed.\\n\\n3. SECURITY DEPOSIT\\nUpon execution of this Agreement, Tenant shall deposit with Landlord the sum of $3942 as a security deposit. This deposit shall be held by the Landlord as security for the faithful performance by the Tenant of all terms, covenants, and conditions of this Agreement.\\n\\n4. USE OF PREMISES\\nThe premises shall be used and occupied by the Tenant exclusively as a private residential dwelling. No part of the premises shall be used for any business or commercial purpose.\\n\\n5. UTILITIES\\nThe Tenant shall be responsible for payment of all utilities and services, including but not limited to electricity, gas, water, sewer, trash removal, cable, and internet services.\\n\\n6. MAINTENANCE AND REPAIRS\\nThe Tenant shall maintain the premises in good, clean, and sanitary condition. The Tenant shall promptly notify the Landlord of any damage, defects, or dangerous conditions on the premises.\\n\\n7. ALTERATIONS\\nThe Tenant shall not make any alterations, additions, or improvements to the premises without the prior written consent of the Landlord.\\n\\n8. PETS\\nNo pets shall be allowed on the premises without the prior written consent of the Landlord. If permission is granted, an additional pet deposit may be required.\\n\\n9. SUBLETTING\\nThe Tenant shall not sublet the premises or any part thereof, nor assign this lease, without the prior written consent of the Landlord.\\n\\n10. RIGHT OF ENTRY\\nThe Landlord reserves the right to enter the premises with reasonable notice (except in cases of emergency) for the purpose of inspection, repairs, or showing the property to prospective tenants or buyers.\\n\\n11. TERMINATION\\nUpon termination of this lease, the Tenant shall surrender the premises in as good condition as when received, reasonable wear and tear excepted. The Tenant shall remove all personal property and clean the premises thoroughly.\\n\\n12. DEFAULT\\nIf the Tenant fails to pay rent when due or breaches any other term of this Agreement, the Landlord may terminate this lease with proper notice as required by law.\\n\\n13. GOVERNING LAW\\nThis Agreement shall be governed by the laws of the state in which the property is located.\\n\\n14. ENTIRE AGREEMENT\\nThis Agreement constitutes the entire agreement between the parties and supersedes all prior negotiations, representations, or agreements, whether written or oral.\\n\\n15. SEVERABILITY\\nIf any provision of this Agreement is held to be invalid or unenforceable, the remaining provisions shall continue in full force and effect.\\n\\n16. ADDITIONAL TERMS AND CONDITIONS\\n[Space for any additional terms agreed upon by both parties]\\n\\n_________________________________________________\\n\\n_________________________________________________\\n\\n_________________________________________________\\n\\n\\nSIGNATURES\\n\\nLANDLORD:\\nSignature: _________________________________ Date: _____________\\nPrint Name: John Davis\\n\\nTENANT:\\nSignature: _________________________________ Date: _____________\\nPrint Name: James Jones\\n\\nACKNOWLEDGMENT\\nBy signing above, both parties acknowledge that they have read, understood, and agree to be bound by all terms and conditions of this Lease Agreement.\\n', {'entities': [(125, 135, 'LESSOR_NAME'), (157, 168, 'LESSEE_NAME'), (269, 303, 'PROPERTY_ADDRESS'), (363, 377, 'LEASE_START_DATE'), (401, 415, 'LEASE_END_DATE'), (537, 542, 'RENT_AMOUNT'), (779, 784, 'SECURITY_DEPOSIT_AMOUNT')]}), ('\\nRESIDENTIAL LEASE AGREEMENT\\n\\nThis Lease Agreement (\"Agreement\") is entered into on January 13, 2025, by and between:\\n\\nLESSOR: Sarah Garcia (\"Landlord\")\\nLESSEE: Sarah Brown (\"Tenant\")\\n\\nPROPERTY: The Landlord hereby leases to the Tenant the residential property located at:\\n6062 Chestnut Blvd, Springfield, OH 96840\\n\\n1. TERM OF LEASE\\nThe term of this lease shall commence on January 13, 2025 and shall terminate on January 13, 2026. This Agreement shall be considered a fixed-term lease.\\n\\n2. RENT\\nThe Tenant agrees to pay the Landlord a monthly rent of $2564. Rent is due on the 1st day of each month. If rent is not received by the 5th day of the month, a late fee of $50.00 will be assessed.\\n\\n3. SECURITY DEPOSIT\\nUpon execution of this Agreement, Tenant shall deposit with Landlord the sum of $3076 as a security deposit. This deposit shall be held by the Landlord as security for the faithful performance by the Tenant of all terms, covenants, and conditions of this Agreement.\\n\\n4. USE OF PREMISES\\nThe premises shall be used and occupied by the Tenant exclusively as a private residential dwelling. No part of the premises shall be used for any business or commercial purpose.\\n\\n5. UTILITIES\\nThe Tenant shall be responsible for payment of all utilities and services, including but not limited to electricity, gas, water, sewer, trash removal, cable, and internet services.\\n\\n6. MAINTENANCE AND REPAIRS\\nThe Tenant shall maintain the premises in good, clean, and sanitary condition. The Tenant shall promptly notify the Landlord of any damage, defects, or dangerous conditions on the premises.\\n\\n7. ALTERATIONS\\nThe Tenant shall not make any alterations, additions, or improvements to the premises without the prior written consent of the Landlord.\\n\\n8. PETS\\nNo pets shall be allowed on the premises without the prior written consent of the Landlord. If permission is granted, an additional pet deposit may be required.\\n\\n9. SUBLETTING\\nThe Tenant shall not sublet the premises or any part thereof, nor assign this lease, without the prior written consent of the Landlord.\\n\\n10. RIGHT OF ENTRY\\nThe Landlord reserves the right to enter the premises with reasonable notice (except in cases of emergency) for the purpose of inspection, repairs, or showing the property to prospective tenants or buyers.\\n\\n11. TERMINATION\\nUpon termination of this lease, the Tenant shall surrender the premises in as good condition as when received, reasonable wear and tear excepted. The Tenant shall remove all personal property and clean the premises thoroughly.\\n\\n12. DEFAULT\\nIf the Tenant fails to pay rent when due or breaches any other term of this Agreement, the Landlord may terminate this lease with proper notice as required by law.\\n\\n13. GOVERNING LAW\\nThis Agreement shall be governed by the laws of the state in which the property is located.\\n\\n14. ENTIRE AGREEMENT\\nThis Agreement constitutes the entire agreement between the parties and supersedes all prior negotiations, representations, or agreements, whether written or oral.\\n\\n15. SEVERABILITY\\nIf any provision of this Agreement is held to be invalid or unenforceable, the remaining provisions shall continue in full force and effect.\\n\\n16. ADDITIONAL TERMS AND CONDITIONS\\n[Space for any additional terms agreed upon by both parties]\\n\\n_________________________________________________\\n\\n_________________________________________________\\n\\n_________________________________________________\\n\\n\\nSIGNATURES\\n\\nLANDLORD:\\nSignature: _________________________________ Date: _____________\\nPrint Name: Sarah Garcia\\n\\nTENANT:\\nSignature: _________________________________ Date: _____________\\nPrint Name: Sarah Brown\\n\\nACKNOWLEDGMENT\\nBy signing above, both parties acknowledge that they have read, understood, and agree to be bound by all terms and conditions of this Lease Agreement.\\n', {'entities': [(127, 139, 'LESSOR_NAME'), (161, 172, 'LESSEE_NAME'), (273, 314, 'PROPERTY_ADDRESS'), (374, 390, 'LEASE_START_DATE'), (414, 430, 'LEASE_END_DATE'), (552, 557, 'RENT_AMOUNT'), (794, 799, 'SECURITY_DEPOSIT_AMOUNT')]}), ('\\nRESIDENTIAL LEASE AGREEMENT\\n\\nThis Lease Agreement (\"Agreement\") is entered into on September 20, 2024, by and between:\\n\\nLESSOR: Ashley Garcia (\"Landlord\")\\nLESSEE: John Brown (\"Tenant\")\\n\\nPROPERTY: The Landlord hereby leases to the Tenant the residential property located at:\\n1376 Elm St, Georgetown, NY 64715\\n\\n1. TERM OF LEASE\\nThe term of this lease shall commence on September 20, 2024 and shall terminate on September 20, 2025. This Agreement shall be considered a fixed-term lease.\\n\\n2. RENT\\nThe Tenant agrees to pay the Landlord a monthly rent of $2935. Rent is due on the 1st day of each month. If rent is not received by the 5th day of the month, a late fee of $50.00 will be assessed.\\n\\n3. SECURITY DEPOSIT\\nUpon execution of this Agreement, Tenant shall deposit with Landlord the sum of $3522 as a security deposit. This deposit shall be held by the Landlord as security for the faithful performance by the Tenant of all terms, covenants, and conditions of this Agreement.\\n\\n4. USE OF PREMISES\\nThe premises shall be used and occupied by the Tenant exclusively as a private residential dwelling. No part of the premises shall be used for any business or commercial purpose.\\n\\n5. UTILITIES\\nThe Tenant shall be responsible for payment of all utilities and services, including but not limited to electricity, gas, water, sewer, trash removal, cable, and internet services.\\n\\n6. MAINTENANCE AND REPAIRS\\nThe Tenant shall maintain the premises in good, clean, and sanitary condition. The Tenant shall promptly notify the Landlord of any damage, defects, or dangerous conditions on the premises.\\n\\n7. ALTERATIONS\\nThe Tenant shall not make any alterations, additions, or improvements to the premises without the prior written consent of the Landlord.\\n\\n8. PETS\\nNo pets shall be allowed on the premises without the prior written consent of the Landlord. If permission is granted, an additional pet deposit may be required.\\n\\n9. SUBLETTING\\nThe Tenant shall not sublet the premises or any part thereof, nor assign this lease, without the prior written consent of the Landlord.\\n\\n10. RIGHT OF ENTRY\\nThe Landlord reserves the right to enter the premises with reasonable notice (except in cases of emergency) for the purpose of inspection, repairs, or showing the property to prospective tenants or buyers.\\n\\n11. TERMINATION\\nUpon termination of this lease, the Tenant shall surrender the premises in as good condition as when received, reasonable wear and tear excepted. The Tenant shall remove all personal property and clean the premises thoroughly.\\n\\n12. DEFAULT\\nIf the Tenant fails to pay rent when due or breaches any other term of this Agreement, the Landlord may terminate this lease with proper notice as required by law.\\n\\n13. GOVERNING LAW\\nThis Agreement shall be governed by the laws of the state in which the property is located.\\n\\n14. ENTIRE AGREEMENT\\nThis Agreement constitutes the entire agreement between the parties and supersedes all prior negotiations, representations, or agreements, whether written or oral.\\n\\n15. SEVERABILITY\\nIf any provision of this Agreement is held to be invalid or unenforceable, the remaining provisions shall continue in full force and effect.\\n\\n16. ADDITIONAL TERMS AND CONDITIONS\\n[Space for any additional terms agreed upon by both parties]\\n\\n_________________________________________________\\n\\n_________________________________________________\\n\\n_________________________________________________\\n\\n\\nSIGNATURES\\n\\nLANDLORD:\\nSignature: _________________________________ Date: _____________\\nPrint Name: Ashley Garcia\\n\\nTENANT:\\nSignature: _________________________________ Date: _____________\\nPrint Name: John Brown\\n\\nACKNOWLEDGMENT\\nBy signing above, both parties acknowledge that they have read, understood, and agree to be bound by all terms and conditions of this Lease Agreement.\\n', {'entities': [(129, 142, 'LESSOR_NAME'), (164, 174, 'LESSEE_NAME'), (275, 308, 'PROPERTY_ADDRESS'), (368, 386, 'LEASE_START_DATE'), (410, 428, 'LEASE_END_DATE'), (550, 555, 'RENT_AMOUNT'), (792, 797, 'SECURITY_DEPOSIT_AMOUNT')]}), ('\\nRESIDENTIAL LEASE AGREEMENT\\n\\nThis Lease Agreement (\"Agreement\") is entered into on October 10, 2024, by and between:\\n\\nLESSOR: Jessica Davis (\"Landlord\")\\nLESSEE: Brian Davis (\"Tenant\")\\n\\nPROPERTY: The Landlord hereby leases to the Tenant the residential property located at:\\n2322 Chestnut Blvd, Clinton, CA 79789\\n\\n1. TERM OF LEASE\\nThe term of this lease shall commence on October 10, 2024 and shall terminate on October 10, 2025. This Agreement shall be considered a fixed-term lease.\\n\\n2. RENT\\nThe Tenant agrees to pay the Landlord a monthly rent of $2866. Rent is due on the 1st day of each month. If rent is not received by the 5th day of the month, a late fee of $50.00 will be assessed.\\n\\n3. SECURITY DEPOSIT\\nUpon execution of this Agreement, Tenant shall deposit with Landlord the sum of $3439 as a security deposit. This deposit shall be held by the Landlord as security for the faithful performance by the Tenant of all terms, covenants, and conditions of this Agreement.\\n\\n4. USE OF PREMISES\\nThe premises shall be used and occupied by the Tenant exclusively as a private residential dwelling. No part of the premises shall be used for any business or commercial purpose.\\n\\n5. UTILITIES\\nThe Tenant shall be responsible for payment of all utilities and services, including but not limited to electricity, gas, water, sewer, trash removal, cable, and internet services.\\n\\n6. MAINTENANCE AND REPAIRS\\nThe Tenant shall maintain the premises in good, clean, and sanitary condition. The Tenant shall promptly notify the Landlord of any damage, defects, or dangerous conditions on the premises.\\n\\n7. ALTERATIONS\\nThe Tenant shall not make any alterations, additions, or improvements to the premises without the prior written consent of the Landlord.\\n\\n8. PETS\\nNo pets shall be allowed on the premises without the prior written consent of the Landlord. If permission is granted, an additional pet deposit may be required.\\n\\n9. SUBLETTING\\nThe Tenant shall not sublet the premises or any part thereof, nor assign this lease, without the prior written consent of the Landlord.\\n\\n10. RIGHT OF ENTRY\\nThe Landlord reserves the right to enter the premises with reasonable notice (except in cases of emergency) for the purpose of inspection, repairs, or showing the property to prospective tenants or buyers.\\n\\n11. TERMINATION\\nUpon termination of this lease, the Tenant shall surrender the premises in as good condition as when received, reasonable wear and tear excepted. The Tenant shall remove all personal property and clean the premises thoroughly.\\n\\n12. DEFAULT\\nIf the Tenant fails to pay rent when due or breaches any other term of this Agreement, the Landlord may terminate this lease with proper notice as required by law.\\n\\n13. GOVERNING LAW\\nThis Agreement shall be governed by the laws of the state in which the property is located.\\n\\n14. ENTIRE AGREEMENT\\nThis Agreement constitutes the entire agreement between the parties and supersedes all prior negotiations, representations, or agreements, whether written or oral.\\n\\n15. SEVERABILITY\\nIf any provision of this Agreement is held to be invalid or unenforceable, the remaining provisions shall continue in full force and effect.\\n\\n16. ADDITIONAL TERMS AND CONDITIONS\\n[Space for any additional terms agreed upon by both parties]\\n\\n_________________________________________________\\n\\n_________________________________________________\\n\\n_________________________________________________\\n\\n\\nSIGNATURES\\n\\nLANDLORD:\\nSignature: _________________________________ Date: _____________\\nPrint Name: Jessica Davis\\n\\nTENANT:\\nSignature: _________________________________ Date: _____________\\nPrint Name: Brian Davis\\n\\nACKNOWLEDGMENT\\nBy signing above, both parties acknowledge that they have read, understood, and agree to be bound by all terms and conditions of this Lease Agreement.\\n', {'entities': [(127, 140, 'LESSOR_NAME'), (162, 173, 'LESSEE_NAME'), (274, 311, 'PROPERTY_ADDRESS'), (371, 387, 'LEASE_START_DATE'), (411, 427, 'LEASE_END_DATE'), (549, 554, 'RENT_AMOUNT'), (791, 796, 'SECURITY_DEPOSIT_AMOUNT')]}), ('\\nRESIDENTIAL LEASE AGREEMENT\\n\\nThis Lease Agreement (\"Agreement\") is entered into on August 24, 2024, by and between:\\n\\nLESSOR: James Smith (\"Landlord\")\\nLESSEE: Amanda Martinez (\"Tenant\")\\n\\nPROPERTY: The Landlord hereby leases to the Tenant the residential property located at:\\n3658 Cedar Ln, Greenville, FL 68317\\n\\n1. TERM OF LEASE\\nThe term of this lease shall commence on August 24, 2024 and shall terminate on August 24, 2025. This Agreement shall be considered a fixed-term lease.\\n\\n2. RENT\\nThe Tenant agrees to pay the Landlord a monthly rent of $1900. Rent is due on the 1st day of each month. If rent is not received by the 5th day of the month, a late fee of $50.00 will be assessed.\\n\\n3. SECURITY DEPOSIT\\nUpon execution of this Agreement, Tenant shall deposit with Landlord the sum of $2280 as a security deposit. This deposit shall be held by the Landlord as security for the faithful performance by the Tenant of all terms, covenants, and conditions of this Agreement.\\n\\n4. USE OF PREMISES\\nThe premises shall be used and occupied by the Tenant exclusively as a private residential dwelling. No part of the premises shall be used for any business or commercial purpose.\\n\\n5. UTILITIES\\nThe Tenant shall be responsible for payment of all utilities and services, including but not limited to electricity, gas, water, sewer, trash removal, cable, and internet services.\\n\\n6. MAINTENANCE AND REPAIRS\\nThe Tenant shall maintain the premises in good, clean, and sanitary condition. The Tenant shall promptly notify the Landlord of any damage, defects, or dangerous conditions on the premises.\\n\\n7. ALTERATIONS\\nThe Tenant shall not make any alterations, additions, or improvements to the premises without the prior written consent of the Landlord.\\n\\n8. PETS\\nNo pets shall be allowed on the premises without the prior written consent of the Landlord. If permission is granted, an additional pet deposit may be required.\\n\\n9. SUBLETTING\\nThe Tenant shall not sublet the premises or any part thereof, nor assign this lease, without the prior written consent of the Landlord.\\n\\n10. RIGHT OF ENTRY\\nThe Landlord reserves the right to enter the premises with reasonable notice (except in cases of emergency) for the purpose of inspection, repairs, or showing the property to prospective tenants or buyers.\\n\\n11. TERMINATION\\nUpon termination of this lease, the Tenant shall surrender the premises in as good condition as when received, reasonable wear and tear excepted. The Tenant shall remove all personal property and clean the premises thoroughly.\\n\\n12. DEFAULT\\nIf the Tenant fails to pay rent when due or breaches any other term of this Agreement, the Landlord may terminate this lease with proper notice as required by law.\\n\\n13. GOVERNING LAW\\nThis Agreement shall be governed by the laws of the state in which the property is located.\\n\\n14. ENTIRE AGREEMENT\\nThis Agreement constitutes the entire agreement between the parties and supersedes all prior negotiations, representations, or agreements, whether written or oral.\\n\\n15. SEVERABILITY\\nIf any provision of this Agreement is held to be invalid or unenforceable, the remaining provisions shall continue in full force and effect.\\n\\n16. ADDITIONAL TERMS AND CONDITIONS\\n[Space for any additional terms agreed upon by both parties]\\n\\n_________________________________________________\\n\\n_________________________________________________\\n\\n_________________________________________________\\n\\n\\nSIGNATURES\\n\\nLANDLORD:\\nSignature: _________________________________ Date: _____________\\nPrint Name: James Smith\\n\\nTENANT:\\nSignature: _________________________________ Date: _____________\\nPrint Name: Amanda Martinez\\n\\nACKNOWLEDGMENT\\nBy signing above, both parties acknowledge that they have read, understood, and agree to be bound by all terms and conditions of this Lease Agreement.\\n', {'entities': [(126, 137, 'LESSOR_NAME'), (159, 174, 'LESSEE_NAME'), (275, 310, 'PROPERTY_ADDRESS'), (370, 385, 'LEASE_START_DATE'), (409, 424, 'LEASE_END_DATE'), (546, 551, 'RENT_AMOUNT'), (788, 793, 'SECURITY_DEPOSIT_AMOUNT')]}), ('\\nRESIDENTIAL LEASE AGREEMENT\\n\\nThis Lease Agreement (\"Agreement\") is entered into on August 27, 2024, by and between:\\n\\nLESSOR: Jessica Johnson (\"Landlord\")\\nLESSEE: Ashley Davis (\"Tenant\")\\n\\nPROPERTY: The Landlord hereby leases to the Tenant the residential property located at:\\n8997 Birch Way, Springfield, CA 53353\\n\\n1. TERM OF LEASE\\nThe term of this lease shall commence on August 27, 2024 and shall terminate on August 27, 2025. This Agreement shall be considered a fixed-term lease.\\n\\n2. RENT\\nThe Tenant agrees to pay the Landlord a monthly rent of $1846. Rent is due on the 1st day of each month. If rent is not received by the 5th day of the month, a late fee of $50.00 will be assessed.\\n\\n3. SECURITY DEPOSIT\\nUpon execution of this Agreement, Tenant shall deposit with Landlord the sum of 6 as a security deposit. This deposit shall be held by the Landlord as security for the faithful performance by the Tenant of all terms, covenants, and conditions of this Agreement.\\n\\n4. USE OF PREMISES\\nThe premises shall be used and occupied by the Tenant exclusively as a private residential dwelling. No part of the premises shall be used for any business or commercial purpose.\\n\\n5. UTILITIES\\nThe Tenant shall be responsible for payment of all utilities and services, including but not limited to electricity, gas, water, sewer, trash removal, cable, and internet services.\\n\\n6. MAINTENANCE AND REPAIRS\\nThe Tenant shall maintain the premises in good, clean, and sanitary condition. The Tenant shall promptly notify the Landlord of any damage, defects, or dangerous conditions on the premises.\\n\\n7. ALTERATIONS\\nThe Tenant shall not make any alterations, additions, or improvements to the premises without the prior written consent of the Landlord.\\n\\n8. PETS\\nNo pets shall be allowed on the premises without the prior written consent of the Landlord. If permission is granted, an additional pet deposit may be required.\\n\\n9. SUBLETTING\\nThe Tenant shall not sublet the premises or any part thereof, nor assign this lease, without the prior written consent of the Landlord.\\n\\n10. RIGHT OF ENTRY\\nThe Landlord reserves the right to enter the premises with reasonable notice (except in cases of emergency) for the purpose of inspection, repairs, or showing the property to prospective tenants or buyers.\\n\\n11. TERMINATION\\nUpon termination of this lease, the Tenant shall surrender the premises in as good condition as when received, reasonable wear and tear excepted. The Tenant shall remove all personal property and clean the premises thoroughly.\\n\\n12. DEFAULT\\nIf the Tenant fails to pay rent when due or breaches any other term of this Agreement, the Landlord may terminate this lease with proper notice as required by law.\\n\\n13. GOVERNING LAW\\nThis Agreement shall be governed by the laws of the state in which the property is located.\\n\\n14. ENTIRE AGREEMENT\\nThis Agreement constitutes the entire agreement between the parties and supersedes all prior negotiations, representations, or agreements, whether written or oral.\\n\\n15. SEVERABILITY\\nIf any provision of this Agreement is held to be invalid or unenforceable, the remaining provisions shall continue in full force and effect.\\n\\n16. ADDITIONAL TERMS AND CONDITIONS\\n[Space for any additional terms agreed upon by both parties]\\n\\n_________________________________________________\\n\\n_________________________________________________\\n\\n_________________________________________________\\n\\n\\nSIGNATURES\\n\\nLANDLORD:\\nSignature: _________________________________ Date: _____________\\nPrint Name: Jessica Johnson\\n\\nTENANT:\\nSignature: _________________________________ Date: _____________\\nPrint Name: Ashley Davis\\n\\nACKNOWLEDGMENT\\nBy signing above, both parties acknowledge that they have read, understood, and agree to be bound by all terms and conditions of this Lease Agreement.\\n', {'entities': [(126, 141, 'LESSOR_NAME'), (163, 175, 'LESSEE_NAME'), (276, 313, 'PROPERTY_ADDRESS'), (373, 388, 'LEASE_START_DATE'), (412, 427, 'LEASE_END_DATE'), (549, 554, 'RENT_AMOUNT'), (791, 796, 'SECURITY_DEPOSIT_AMOUNT')]})]\n"
     ]
    }
   ],
   "source": [
    "import json\n",
    "\n",
    "\n",
    "train_data = []\n",
    "\n",
    "# read tagged dataset json file\n",
    "with open('tagged_dataset.json', 'r') as f:\n",
    "    tagged_data = json.load(f)\n",
    "for single_lease in tagged_data:\n",
    "    file_path = single_lease['file_path']\n",
    "    entities = single_lease['entities']\n",
    "    file = open(file_path, 'r')\n",
    "    file_text = file.read()\n",
    "    ent = []\n",
    "    for entity, details in entities.items():\n",
    "        start = details['start']\n",
    "        end = details['end']\n",
    "        # print(f\"Entity: {entity}, Start: {start}, End: {end}, Text: {file_text[start:end]}\")\n",
    "        ent.append((start, end, entity))\n",
    "    train_data.append((file_text, {\"entities\": ent}))\n",
    "\n",
    "print(train_data)"
   ]
  },
  {
   "cell_type": "code",
   "execution_count": 4,
   "id": "fba64375",
   "metadata": {},
   "outputs": [
    {
     "name": "stderr",
     "output_type": "stream",
     "text": [
      "/Users/akshaychavan/Library/Python/3.9/lib/python/site-packages/spacy/training/iob_utils.py:149: UserWarning: [W030] Some entities could not be aligned in the text \"\n",
      "RESIDENTIAL LEASE AGREEMENT\n",
      "\n",
      "This Lease Agreement...\" with entities \"[(126, 141, 'LESSOR_NAME'), (163, 175, 'LESSEE_NAM...\". Use `spacy.training.offsets_to_biluo_tags(nlp.make_doc(text), entities)` to check the alignment. Misaligned entities ('-') will be ignored during training.\n",
      "  warnings.warn(\n"
     ]
    },
    {
     "name": "stdout",
     "output_type": "stream",
     "text": [
      "Iteration 0, Losses: {'ner': np.float32(510.7193)}\n",
      "Iteration 1, Losses: {'ner': np.float32(167.12672)}\n",
      "Iteration 2, Losses: {'ner': np.float32(134.75603)}\n",
      "Iteration 3, Losses: {'ner': np.float32(118.61643)}\n",
      "Iteration 4, Losses: {'ner': np.float32(109.44797)}\n",
      "Iteration 5, Losses: {'ner': np.float32(276.42484)}\n",
      "Iteration 6, Losses: {'ner': np.float32(265.53632)}\n",
      "Iteration 7, Losses: {'ner': np.float32(951.73395)}\n",
      "Iteration 8, Losses: {'ner': np.float32(284.66724)}\n",
      "Iteration 9, Losses: {'ner': np.float32(225.0927)}\n",
      "Iteration 10, Losses: {'ner': np.float32(211.43105)}\n",
      "Iteration 11, Losses: {'ner': np.float32(268.28403)}\n",
      "Iteration 12, Losses: {'ner': np.float32(288.97824)}\n",
      "Iteration 13, Losses: {'ner': np.float32(217.92003)}\n",
      "Iteration 14, Losses: {'ner': np.float32(256.4379)}\n",
      "Iteration 15, Losses: {'ner': np.float32(184.02344)}\n",
      "Iteration 16, Losses: {'ner': np.float32(219.2836)}\n",
      "Iteration 17, Losses: {'ner': np.float32(349.3037)}\n",
      "Iteration 18, Losses: {'ner': np.float32(226.51451)}\n",
      "Iteration 19, Losses: {'ner': np.float32(216.09027)}\n",
      "Iteration 20, Losses: {'ner': np.float32(213.61919)}\n",
      "Iteration 21, Losses: {'ner': np.float32(180.42012)}\n",
      "Iteration 22, Losses: {'ner': np.float32(177.69511)}\n",
      "Iteration 23, Losses: {'ner': np.float32(112.643974)}\n",
      "Iteration 24, Losses: {'ner': np.float32(97.67226)}\n",
      "Iteration 25, Losses: {'ner': np.float32(111.11391)}\n",
      "Iteration 26, Losses: {'ner': np.float32(212.9269)}\n",
      "Iteration 27, Losses: {'ner': np.float32(677.5424)}\n",
      "Iteration 28, Losses: {'ner': np.float32(609.6001)}\n",
      "Iteration 29, Losses: {'ner': np.float32(233.83116)}\n",
      "Iteration 30, Losses: {'ner': np.float32(144.18767)}\n",
      "Iteration 31, Losses: {'ner': np.float32(148.96808)}\n",
      "Iteration 32, Losses: {'ner': np.float32(738.66376)}\n",
      "Iteration 33, Losses: {'ner': np.float32(231.1548)}\n",
      "Iteration 34, Losses: {'ner': np.float32(215.69221)}\n",
      "Iteration 35, Losses: {'ner': np.float32(83.08603)}\n",
      "Iteration 36, Losses: {'ner': np.float32(113.36631)}\n",
      "Iteration 37, Losses: {'ner': np.float32(201.28552)}\n",
      "Iteration 38, Losses: {'ner': np.float32(163.72357)}\n",
      "Iteration 39, Losses: {'ner': np.float32(119.00743)}\n",
      "Iteration 40, Losses: {'ner': np.float32(116.778145)}\n",
      "Iteration 41, Losses: {'ner': np.float32(188.44656)}\n",
      "Iteration 42, Losses: {'ner': np.float32(215.09502)}\n",
      "Iteration 43, Losses: {'ner': np.float32(87.73392)}\n",
      "Iteration 44, Losses: {'ner': np.float32(80.45323)}\n",
      "Iteration 45, Losses: {'ner': np.float32(64.3627)}\n",
      "Iteration 46, Losses: {'ner': np.float32(145.37332)}\n",
      "Iteration 47, Losses: {'ner': np.float32(138.67737)}\n",
      "Iteration 48, Losses: {'ner': np.float32(111.580055)}\n",
      "Iteration 49, Losses: {'ner': np.float32(75.93253)}\n",
      "Iteration 50, Losses: {'ner': np.float32(103.08868)}\n",
      "Iteration 51, Losses: {'ner': np.float32(145.9344)}\n",
      "Iteration 52, Losses: {'ner': np.float32(91.27636)}\n",
      "Iteration 53, Losses: {'ner': np.float32(74.33894)}\n",
      "Iteration 54, Losses: {'ner': np.float32(119.61663)}\n",
      "Iteration 55, Losses: {'ner': np.float32(108.51712)}\n",
      "Iteration 56, Losses: {'ner': np.float32(68.065155)}\n",
      "Iteration 57, Losses: {'ner': np.float32(64.67721)}\n",
      "Iteration 58, Losses: {'ner': np.float32(75.31527)}\n",
      "Iteration 59, Losses: {'ner': np.float32(97.17979)}\n",
      "Iteration 60, Losses: {'ner': np.float32(64.884605)}\n",
      "Iteration 61, Losses: {'ner': np.float32(77.08603)}\n",
      "Iteration 62, Losses: {'ner': np.float32(105.963295)}\n",
      "Iteration 63, Losses: {'ner': np.float32(78.61835)}\n",
      "Iteration 64, Losses: {'ner': np.float32(68.97735)}\n",
      "Iteration 65, Losses: {'ner': np.float32(79.70794)}\n",
      "Iteration 66, Losses: {'ner': np.float32(116.29209)}\n",
      "Iteration 67, Losses: {'ner': np.float32(75.67219)}\n",
      "Iteration 68, Losses: {'ner': np.float32(41.875572)}\n",
      "Iteration 69, Losses: {'ner': np.float32(82.11963)}\n",
      "Iteration 70, Losses: {'ner': np.float32(96.45255)}\n",
      "Iteration 71, Losses: {'ner': np.float32(83.958275)}\n",
      "Iteration 72, Losses: {'ner': np.float32(70.528656)}\n",
      "Iteration 73, Losses: {'ner': np.float32(70.58782)}\n",
      "Iteration 74, Losses: {'ner': np.float32(62.434372)}\n",
      "Iteration 75, Losses: {'ner': np.float32(85.94139)}\n",
      "Iteration 76, Losses: {'ner': np.float32(55.07522)}\n",
      "Iteration 77, Losses: {'ner': np.float32(70.96834)}\n",
      "Iteration 78, Losses: {'ner': np.float32(61.639187)}\n",
      "Iteration 79, Losses: {'ner': np.float32(57.7464)}\n",
      "Iteration 80, Losses: {'ner': np.float32(48.60181)}\n",
      "Iteration 81, Losses: {'ner': np.float32(68.91017)}\n",
      "Iteration 82, Losses: {'ner': np.float32(82.48412)}\n",
      "Iteration 83, Losses: {'ner': np.float32(59.791084)}\n",
      "Iteration 84, Losses: {'ner': np.float32(61.788612)}\n",
      "Iteration 85, Losses: {'ner': np.float32(59.379753)}\n",
      "Iteration 86, Losses: {'ner': np.float32(46.970135)}\n",
      "Iteration 87, Losses: {'ner': np.float32(57.84112)}\n",
      "Iteration 88, Losses: {'ner': np.float32(72.051544)}\n",
      "Iteration 89, Losses: {'ner': np.float32(55.667152)}\n",
      "Iteration 90, Losses: {'ner': np.float32(57.82642)}\n",
      "Iteration 91, Losses: {'ner': np.float32(63.460976)}\n",
      "Iteration 92, Losses: {'ner': np.float32(62.703045)}\n",
      "Iteration 93, Losses: {'ner': np.float32(62.181366)}\n",
      "Iteration 94, Losses: {'ner': np.float32(59.75592)}\n",
      "Iteration 95, Losses: {'ner': np.float32(55.88137)}\n",
      "Iteration 96, Losses: {'ner': np.float32(45.825256)}\n",
      "Iteration 97, Losses: {'ner': np.float32(33.61369)}\n",
      "Iteration 98, Losses: {'ner': np.float32(25.348059)}\n",
      "Iteration 99, Losses: {'ner': np.float32(15.150813)}\n"
     ]
    }
   ],
   "source": [
    "# Load English language model and create a blank model for NER\n",
    "nlp = spacy.load(\"en_core_web_md\")\n",
    "\n",
    "# Add NER pipe if it doesn't exist\n",
    "if \"ner\" not in nlp.pipe_names:\n",
    "    ner = nlp.add_pipe(\"ner\")\n",
    "else:\n",
    "    ner = nlp.get_pipe(\"ner\")\n",
    "\n",
    "# Add labels to the NER component\n",
    "for _, annotations in train_data:\n",
    "    for ent in annotations.get(\"entities\"):\n",
    "        if ent[2] not in ner.labels:\n",
    "            ner.add_label(ent[2])\n",
    "\n",
    "# Disable other pipes and train only NER\n",
    "other_pipes = [pipe for pipe in nlp.pipe_names if pipe != \"ner\"]\n",
    "with nlp.disable_pipes(*other_pipes):\n",
    "    # Initialize the optimizer with default settings\n",
    "    optimizer = nlp.create_optimizer()\n",
    "    \n",
    "    # Training loop\n",
    "    for itn in range(100):\n",
    "        random.shuffle(train_data)\n",
    "        losses = {}\n",
    "        \n",
    "        # Batch the examples\n",
    "        losses = {}\n",
    "        batches = minibatch(train_data, size=2)\n",
    "        for batch in batches:\n",
    "            examples = []\n",
    "            for text, annotations in batch:\n",
    "                doc = nlp.make_doc(text)\n",
    "                example = Example.from_dict(doc, annotations)\n",
    "                examples.append(example)\n",
    "            \n",
    "            # Update the model\n",
    "            nlp.update(examples, drop=0.5, sgd=optimizer, losses=losses)\n",
    "            \n",
    "        print(f\"Iteration {itn}, Losses: {losses}\")\n",
    "\n",
    "# Save the trained model\n",
    "nlp.to_disk(\"lease_ner_model\")\n",
    "\n",
    "# Test the model\n",
    "nlp_lease = spacy.load(\"lease_ner_model\")"
   ]
  },
  {
   "cell_type": "code",
   "execution_count": 5,
   "id": "c2b3be05",
   "metadata": {},
   "outputs": [
    {
     "name": "stdout",
     "output_type": "stream",
     "text": [
      "Sarah Garcia LESSOR_NAME\n",
      "Sarah Brown LESSEE_NAME\n",
      "6062 Chestnut Blvd, Springfield, OH 96840 PROPERTY_ADDRESS\n",
      "January 13, 2025 LEASE_START_DATE\n",
      "January 13, 2026 LEASE_END_DATE\n",
      "$2564 RENT_AMOUNT\n",
      "$3076 SECURITY_DEPOSIT_AMOUNT\n"
     ]
    }
   ],
   "source": [
    "f = open(\"/Users/akshaychavan/Documents/college/NLP/Lease_Documents_Text/Lease_Agreement_6.txt\")\n",
    "test_text = f.read()\n",
    "doc = nlp_lease(test_text)\n",
    "for ent in doc.ents:\n",
    "    print(ent.text, ent.label_)"
   ]
  },
  {
   "cell_type": "code",
   "execution_count": null,
   "id": "2b3cd4a0",
   "metadata": {},
   "outputs": [],
   "source": []
  }
 ],
 "metadata": {
  "kernelspec": {
   "display_name": "Python 3",
   "language": "python",
   "name": "python3"
  },
  "language_info": {
   "codemirror_mode": {
    "name": "ipython",
    "version": 3
   },
   "file_extension": ".py",
   "mimetype": "text/x-python",
   "name": "python",
   "nbconvert_exporter": "python",
   "pygments_lexer": "ipython3",
   "version": "3.9.6"
  }
 },
 "nbformat": 4,
 "nbformat_minor": 5
}
