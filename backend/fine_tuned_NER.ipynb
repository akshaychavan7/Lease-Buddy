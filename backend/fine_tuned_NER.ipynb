{
 "cells": [
  {
   "cell_type": "code",
   "execution_count": 1,
   "id": "4d2abf51",
   "metadata": {},
   "outputs": [
    {
     "name": "stderr",
     "output_type": "stream",
     "text": [
      "/Users/akshaychavan/Library/Python/3.9/lib/python/site-packages/urllib3/__init__.py:35: NotOpenSSLWarning: urllib3 v2 only supports OpenSSL 1.1.1+, currently the 'ssl' module is compiled with 'LibreSSL 2.8.3'. See: https://github.com/urllib3/urllib3/issues/3020\n",
      "  warnings.warn(\n"
     ]
    }
   ],
   "source": [
    "import random\n",
    "import spacy\n",
    "from spacy.util import minibatch\n",
    "from spacy.training.example import Example"
   ]
  },
  {
   "cell_type": "code",
   "execution_count": 2,
   "id": "914f9791",
   "metadata": {},
   "outputs": [
    {
     "name": "stdout",
     "output_type": "stream",
     "text": [
      "[('\\nRESIDENTIAL LEASE AGREEMENT\\n\\nThis Lease Agreement (\"Agreement\") is entered into on May 26, 2025, by and between:\\n\\nLESSOR: Ashley Martinez (\"Landlord\")\\nLESSEE: Sarah Williams (\"Tenant\")\\n\\nPROPERTY: The Landlord hereby leases to the Tenant the residential property located at:\\n5316 Pine Rd, Franklin, CA 70457\\n\\n1. TERM OF LEASE\\nThe term of this lease shall commence on May 26, 2025 and shall terminate on May 26, 2026. This Agreement shall be considered a fixed-term lease.\\n\\n2. RENT\\nThe Tenant agrees to pay the Landlord a monthly rent of $1038. Rent is due on the 1st day of each month. If rent is not received by the 5th day of the month, a late fee of $50.00 will be assessed.\\n\\n3. SECURITY DEPOSIT\\nUpon execution of this Agreement, Tenant shall deposit with Landlord the sum of $1245 as a security deposit. This deposit shall be held by the Landlord as security for the faithful performance by the Tenant of all terms, covenants, and conditions of this Agreement.\\n\\n4. USE OF PREMISES\\nThe premises shall be used and occupied by the Tenant exclusively as a private residential dwelling. No part of the premises shall be used for any business or commercial purpose.\\n\\n5. UTILITIES\\nThe Tenant shall be responsible for payment of all utilities and services, including but not limited to electricity, gas, water, sewer, trash removal, cable, and internet services.\\n\\n6. MAINTENANCE AND REPAIRS\\nThe Tenant shall maintain the premises in good, clean, and sanitary condition. The Tenant shall promptly notify the Landlord of any damage, defects, or dangerous conditions on the premises.\\n\\n7. ALTERATIONS\\nThe Tenant shall not make any alterations, additions, or improvements to the premises without the prior written consent of the Landlord.\\n\\n8. PETS\\nNo pets shall be allowed on the premises without the prior written consent of the Landlord. If permission is granted, an additional pet deposit may be required.\\n\\n9. SUBLETTING\\nThe Tenant shall not sublet the premises or any part thereof, nor assign this lease, without the prior written consent of the Landlord.\\n\\n10. RIGHT OF ENTRY\\nThe Landlord reserves the right to enter the premises with reasonable notice (except in cases of emergency) for the purpose of inspection, repairs, or showing the property to prospective tenants or buyers.\\n\\n11. TERMINATION\\nUpon termination of this lease, the Tenant shall surrender the premises in as good condition as when received, reasonable wear and tear excepted. The Tenant shall remove all personal property and clean the premises thoroughly.\\n\\n12. DEFAULT\\nIf the Tenant fails to pay rent when due or breaches any other term of this Agreement, the Landlord may terminate this lease with proper notice as required by law.\\n\\n13. GOVERNING LAW\\nThis Agreement shall be governed by the laws of the state in which the property is located.\\n\\n14. ENTIRE AGREEMENT\\nThis Agreement constitutes the entire agreement between the parties and supersedes all prior negotiations, representations, or agreements, whether written or oral.\\n\\n15. SEVERABILITY\\nIf any provision of this Agreement is held to be invalid or unenforceable, the remaining provisions shall continue in full force and effect.\\n\\n16. ADDITIONAL TERMS AND CONDITIONS\\n[Space for any additional terms agreed upon by both parties]\\n\\n_________________________________________________\\n\\n_________________________________________________\\n\\n_________________________________________________\\n\\n\\nSIGNATURES\\n\\nLANDLORD:\\nSignature: _________________________________ Date: _____________\\nPrint Name: Ashley Martinez\\n\\nTENANT:\\nSignature: _________________________________ Date: _____________\\nPrint Name: Sarah Williams\\n\\nACKNOWLEDGMENT\\nBy signing above, both parties acknowledge that they have read, understood, and agree to be bound by all terms and conditions of this Lease Agreement.\\n', {'entities': [(123, 138, 'LESSOR_NAME'), (160, 174, 'LESSEE_NAME'), (275, 307, 'PROPERTY_ADDRESS'), (367, 379, 'LEASE_START_DATE'), (403, 415, 'LEASE_END_DATE'), (537, 542, 'RENT_AMOUNT'), (779, 784, 'SECURITY_DEPOSIT_AMOUNT')]}), ('\\nRESIDENTIAL LEASE AGREEMENT\\n\\nThis Lease Agreement (\"Agreement\") is entered into on December 16, 2024, by and between:\\n\\nLESSOR: Ashley Jones (\"Landlord\")\\nLESSEE: Jessica Miller (\"Tenant\")\\n\\nPROPERTY: The Landlord hereby leases to the Tenant the residential property located at:\\n538 Spruce Ct, Springfield, NY 82660\\n\\n1. TERM OF LEASE\\nThe term of this lease shall commence on December 16, 2024 and shall terminate on December 16, 2025. This Agreement shall be considered a fixed-term lease.\\n\\n2. RENT\\nThe Tenant agrees to pay the Landlord a monthly rent of $1746. Rent is due on the 1st day of each month. If rent is not received by the 5th day of the month, a late fee of $50.00 will be assessed.\\n\\n3. SECURITY DEPOSIT\\nUpon execution of this Agreement, Tenant shall deposit with Landlord the sum of $2095 as a security deposit. This deposit shall be held by the Landlord as security for the faithful performance by the Tenant of all terms, covenants, and conditions of this Agreement.\\n\\n4. USE OF PREMISES\\nThe premises shall be used and occupied by the Tenant exclusively as a private residential dwelling. No part of the premises shall be used for any business or commercial purpose.\\n\\n5. UTILITIES\\nThe Tenant shall be responsible for payment of all utilities and services, including but not limited to electricity, gas, water, sewer, trash removal, cable, and internet services.\\n\\n6. MAINTENANCE AND REPAIRS\\nThe Tenant shall maintain the premises in good, clean, and sanitary condition. The Tenant shall promptly notify the Landlord of any damage, defects, or dangerous conditions on the premises.\\n\\n7. ALTERATIONS\\nThe Tenant shall not make any alterations, additions, or improvements to the premises without the prior written consent of the Landlord.\\n\\n8. PETS\\nNo pets shall be allowed on the premises without the prior written consent of the Landlord. If permission is granted, an additional pet deposit may be required.\\n\\n9. SUBLETTING\\nThe Tenant shall not sublet the premises or any part thereof, nor assign this lease, without the prior written consent of the Landlord.\\n\\n10. RIGHT OF ENTRY\\nThe Landlord reserves the right to enter the premises with reasonable notice (except in cases of emergency) for the purpose of inspection, repairs, or showing the property to prospective tenants or buyers.\\n\\n11. TERMINATION\\nUpon termination of this lease, the Tenant shall surrender the premises in as good condition as when received, reasonable wear and tear excepted. The Tenant shall remove all personal property and clean the premises thoroughly.\\n\\n12. DEFAULT\\nIf the Tenant fails to pay rent when due or breaches any other term of this Agreement, the Landlord may terminate this lease with proper notice as required by law.\\n\\n13. GOVERNING LAW\\nThis Agreement shall be governed by the laws of the state in which the property is located.\\n\\n14. ENTIRE AGREEMENT\\nThis Agreement constitutes the entire agreement between the parties and supersedes all prior negotiations, representations, or agreements, whether written or oral.\\n\\n15. SEVERABILITY\\nIf any provision of this Agreement is held to be invalid or unenforceable, the remaining provisions shall continue in full force and effect.\\n\\n16. ADDITIONAL TERMS AND CONDITIONS\\n[Space for any additional terms agreed upon by both parties]\\n\\n_________________________________________________\\n\\n_________________________________________________\\n\\n_________________________________________________\\n\\n\\nSIGNATURES\\n\\nLANDLORD:\\nSignature: _________________________________ Date: _____________\\nPrint Name: Ashley Jones\\n\\nTENANT:\\nSignature: _________________________________ Date: _____________\\nPrint Name: Jessica Miller\\n\\nACKNOWLEDGMENT\\nBy signing above, both parties acknowledge that they have read, understood, and agree to be bound by all terms and conditions of this Lease Agreement.\\n', {'entities': [(128, 140, 'LESSOR_NAME'), (162, 176, 'LESSEE_NAME'), (277, 313, 'PROPERTY_ADDRESS'), (373, 390, 'LEASE_START_DATE'), (414, 431, 'LEASE_END_DATE'), (553, 558, 'RENT_AMOUNT'), (795, 800, 'SECURITY_DEPOSIT_AMOUNT')]}), ('\\nRESIDENTIAL LEASE AGREEMENT\\n\\nThis Lease Agreement (\"Agreement\") is entered into on September 20, 2024, by and between:\\n\\nLESSOR: Brian Miller (\"Landlord\")\\nLESSEE: Amanda Garcia (\"Tenant\")\\n\\nPROPERTY: The Landlord hereby leases to the Tenant the residential property located at:\\n1807 Chestnut Blvd, Fairview, CA 68967\\n\\n1. TERM OF LEASE\\nThe term of this lease shall commence on September 20, 2024 and shall terminate on September 20, 2025. This Agreement shall be considered a fixed-term lease.\\n\\n2. RENT\\nThe Tenant agrees to pay the Landlord a monthly rent of $2611. Rent is due on the 1st day of each month. If rent is not received by the 5th day of the month, a late fee of $50.00 will be assessed.\\n\\n3. SECURITY DEPOSIT\\nUpon execution of this Agreement, Tenant shall deposit with Landlord the sum of $3133 as a security deposit. This deposit shall be held by the Landlord as security for the faithful performance by the Tenant of all terms, covenants, and conditions of this Agreement.\\n\\n4. USE OF PREMISES\\nThe premises shall be used and occupied by the Tenant exclusively as a private residential dwelling. No part of the premises shall be used for any business or commercial purpose.\\n\\n5. UTILITIES\\nThe Tenant shall be responsible for payment of all utilities and services, including but not limited to electricity, gas, water, sewer, trash removal, cable, and internet services.\\n\\n6. MAINTENANCE AND REPAIRS\\nThe Tenant shall maintain the premises in good, clean, and sanitary condition. The Tenant shall promptly notify the Landlord of any damage, defects, or dangerous conditions on the premises.\\n\\n7. ALTERATIONS\\nThe Tenant shall not make any alterations, additions, or improvements to the premises without the prior written consent of the Landlord.\\n\\n8. PETS\\nNo pets shall be allowed on the premises without the prior written consent of the Landlord. If permission is granted, an additional pet deposit may be required.\\n\\n9. SUBLETTING\\nThe Tenant shall not sublet the premises or any part thereof, nor assign this lease, without the prior written consent of the Landlord.\\n\\n10. RIGHT OF ENTRY\\nThe Landlord reserves the right to enter the premises with reasonable notice (except in cases of emergency) for the purpose of inspection, repairs, or showing the property to prospective tenants or buyers.\\n\\n11. TERMINATION\\nUpon termination of this lease, the Tenant shall surrender the premises in as good condition as when received, reasonable wear and tear excepted. The Tenant shall remove all personal property and clean the premises thoroughly.\\n\\n12. DEFAULT\\nIf the Tenant fails to pay rent when due or breaches any other term of this Agreement, the Landlord may terminate this lease with proper notice as required by law.\\n\\n13. GOVERNING LAW\\nThis Agreement shall be governed by the laws of the state in which the property is located.\\n\\n14. ENTIRE AGREEMENT\\nThis Agreement constitutes the entire agreement between the parties and supersedes all prior negotiations, representations, or agreements, whether written or oral.\\n\\n15. SEVERABILITY\\nIf any provision of this Agreement is held to be invalid or unenforceable, the remaining provisions shall continue in full force and effect.\\n\\n16. ADDITIONAL TERMS AND CONDITIONS\\n[Space for any additional terms agreed upon by both parties]\\n\\n_________________________________________________\\n\\n_________________________________________________\\n\\n_________________________________________________\\n\\n\\nSIGNATURES\\n\\nLANDLORD:\\nSignature: _________________________________ Date: _____________\\nPrint Name: Brian Miller\\n\\nTENANT:\\nSignature: _________________________________ Date: _____________\\nPrint Name: Amanda Garcia\\n\\nACKNOWLEDGMENT\\nBy signing above, both parties acknowledge that they have read, understood, and agree to be bound by all terms and conditions of this Lease Agreement.\\n', {'entities': [(129, 141, 'LESSOR_NAME'), (163, 176, 'LESSEE_NAME'), (277, 315, 'PROPERTY_ADDRESS'), (375, 393, 'LEASE_START_DATE'), (417, 435, 'LEASE_END_DATE'), (557, 562, 'RENT_AMOUNT'), (799, 804, 'SECURITY_DEPOSIT_AMOUNT')]}), ('\\nRESIDENTIAL LEASE AGREEMENT\\n\\nThis Lease Agreement (\"Agreement\") is entered into on May 28, 2025, by and between:\\n\\nLESSOR: David Hernandez (\"Landlord\")\\nLESSEE: Michael Johnson (\"Tenant\")\\n\\nPROPERTY: The Landlord hereby leases to the Tenant the residential property located at:\\n2658 Elm St, Franklin, GA 71686\\n\\n1. TERM OF LEASE\\nThe term of this lease shall commence on May 28, 2025 and shall terminate on May 28, 2026. This Agreement shall be considered a fixed-term lease.\\n\\n2. RENT\\nThe Tenant agrees to pay the Landlord a monthly rent of $3330. Rent is due on the 1st day of each month. If rent is not received by the 5th day of the month, a late fee of $50.00 will be assessed.\\n\\n3. SECURITY DEPOSIT\\nUpon execution of this Agreement, Tenant shall deposit with Landlord the sum of $3996 as a security deposit. This deposit shall be held by the Landlord as security for the faithful performance by the Tenant of all terms, covenants, and conditions of this Agreement.\\n\\n4. USE OF PREMISES\\nThe premises shall be used and occupied by the Tenant exclusively as a private residential dwelling. No part of the premises shall be used for any business or commercial purpose.\\n\\n5. UTILITIES\\nThe Tenant shall be responsible for payment of all utilities and services, including but not limited to electricity, gas, water, sewer, trash removal, cable, and internet services.\\n\\n6. MAINTENANCE AND REPAIRS\\nThe Tenant shall maintain the premises in good, clean, and sanitary condition. The Tenant shall promptly notify the Landlord of any damage, defects, or dangerous conditions on the premises.\\n\\n7. ALTERATIONS\\nThe Tenant shall not make any alterations, additions, or improvements to the premises without the prior written consent of the Landlord.\\n\\n8. PETS\\nNo pets shall be allowed on the premises without the prior written consent of the Landlord. If permission is granted, an additional pet deposit may be required.\\n\\n9. SUBLETTING\\nThe Tenant shall not sublet the premises or any part thereof, nor assign this lease, without the prior written consent of the Landlord.\\n\\n10. RIGHT OF ENTRY\\nThe Landlord reserves the right to enter the premises with reasonable notice (except in cases of emergency) for the purpose of inspection, repairs, or showing the property to prospective tenants or buyers.\\n\\n11. TERMINATION\\nUpon termination of this lease, the Tenant shall surrender the premises in as good condition as when received, reasonable wear and tear excepted. The Tenant shall remove all personal property and clean the premises thoroughly.\\n\\n12. DEFAULT\\nIf the Tenant fails to pay rent when due or breaches any other term of this Agreement, the Landlord may terminate this lease with proper notice as required by law.\\n\\n13. GOVERNING LAW\\nThis Agreement shall be governed by the laws of the state in which the property is located.\\n\\n14. ENTIRE AGREEMENT\\nThis Agreement constitutes the entire agreement between the parties and supersedes all prior negotiations, representations, or agreements, whether written or oral.\\n\\n15. SEVERABILITY\\nIf any provision of this Agreement is held to be invalid or unenforceable, the remaining provisions shall continue in full force and effect.\\n\\n16. ADDITIONAL TERMS AND CONDITIONS\\n[Space for any additional terms agreed upon by both parties]\\n\\n_________________________________________________\\n\\n_________________________________________________\\n\\n_________________________________________________\\n\\n\\nSIGNATURES\\n\\nLANDLORD:\\nSignature: _________________________________ Date: _____________\\nPrint Name: David Hernandez\\n\\nTENANT:\\nSignature: _________________________________ Date: _____________\\nPrint Name: Michael Johnson\\n\\nACKNOWLEDGMENT\\nBy signing above, both parties acknowledge that they have read, understood, and agree to be bound by all terms and conditions of this Lease Agreement.\\n', {'entities': [(123, 138, 'LESSOR_NAME'), (160, 175, 'LESSEE_NAME'), (276, 307, 'PROPERTY_ADDRESS'), (367, 379, 'LEASE_START_DATE'), (403, 415, 'LEASE_END_DATE'), (537, 542, 'RENT_AMOUNT'), (779, 784, 'SECURITY_DEPOSIT_AMOUNT')]}), ('\\nRESIDENTIAL LEASE AGREEMENT\\n\\nThis Lease Agreement (\"Agreement\") is entered into on March 17, 2025, by and between:\\n\\nLESSOR: John Davis (\"Landlord\")\\nLESSEE: James Jones (\"Tenant\")\\n\\nPROPERTY: The Landlord hereby leases to the Tenant the residential property located at:\\n7056 Pine Rd, Greenville, PA 75931\\n\\n1. TERM OF LEASE\\nThe term of this lease shall commence on March 17, 2025 and shall terminate on March 17, 2026. This Agreement shall be considered a fixed-term lease.\\n\\n2. RENT\\nThe Tenant agrees to pay the Landlord a monthly rent of $3285. Rent is due on the 1st day of each month. If rent is not received by the 5th day of the month, a late fee of $50.00 will be assessed.\\n\\n3. SECURITY DEPOSIT\\nUpon execution of this Agreement, Tenant shall deposit with Landlord the sum of $3942 as a security deposit. This deposit shall be held by the Landlord as security for the faithful performance by the Tenant of all terms, covenants, and conditions of this Agreement.\\n\\n4. USE OF PREMISES\\nThe premises shall be used and occupied by the Tenant exclusively as a private residential dwelling. No part of the premises shall be used for any business or commercial purpose.\\n\\n5. UTILITIES\\nThe Tenant shall be responsible for payment of all utilities and services, including but not limited to electricity, gas, water, sewer, trash removal, cable, and internet services.\\n\\n6. MAINTENANCE AND REPAIRS\\nThe Tenant shall maintain the premises in good, clean, and sanitary condition. The Tenant shall promptly notify the Landlord of any damage, defects, or dangerous conditions on the premises.\\n\\n7. ALTERATIONS\\nThe Tenant shall not make any alterations, additions, or improvements to the premises without the prior written consent of the Landlord.\\n\\n8. PETS\\nNo pets shall be allowed on the premises without the prior written consent of the Landlord. If permission is granted, an additional pet deposit may be required.\\n\\n9. SUBLETTING\\nThe Tenant shall not sublet the premises or any part thereof, nor assign this lease, without the prior written consent of the Landlord.\\n\\n10. RIGHT OF ENTRY\\nThe Landlord reserves the right to enter the premises with reasonable notice (except in cases of emergency) for the purpose of inspection, repairs, or showing the property to prospective tenants or buyers.\\n\\n11. TERMINATION\\nUpon termination of this lease, the Tenant shall surrender the premises in as good condition as when received, reasonable wear and tear excepted. The Tenant shall remove all personal property and clean the premises thoroughly.\\n\\n12. DEFAULT\\nIf the Tenant fails to pay rent when due or breaches any other term of this Agreement, the Landlord may terminate this lease with proper notice as required by law.\\n\\n13. GOVERNING LAW\\nThis Agreement shall be governed by the laws of the state in which the property is located.\\n\\n14. ENTIRE AGREEMENT\\nThis Agreement constitutes the entire agreement between the parties and supersedes all prior negotiations, representations, or agreements, whether written or oral.\\n\\n15. SEVERABILITY\\nIf any provision of this Agreement is held to be invalid or unenforceable, the remaining provisions shall continue in full force and effect.\\n\\n16. ADDITIONAL TERMS AND CONDITIONS\\n[Space for any additional terms agreed upon by both parties]\\n\\n_________________________________________________\\n\\n_________________________________________________\\n\\n_________________________________________________\\n\\n\\nSIGNATURES\\n\\nLANDLORD:\\nSignature: _________________________________ Date: _____________\\nPrint Name: John Davis\\n\\nTENANT:\\nSignature: _________________________________ Date: _____________\\nPrint Name: James Jones\\n\\nACKNOWLEDGMENT\\nBy signing above, both parties acknowledge that they have read, understood, and agree to be bound by all terms and conditions of this Lease Agreement.\\n', {'entities': [(125, 135, 'LESSOR_NAME'), (157, 168, 'LESSEE_NAME'), (269, 303, 'PROPERTY_ADDRESS'), (363, 377, 'LEASE_START_DATE'), (401, 415, 'LEASE_END_DATE'), (537, 542, 'RENT_AMOUNT'), (779, 784, 'SECURITY_DEPOSIT_AMOUNT')]}), ('\\nRESIDENTIAL LEASE AGREEMENT\\n\\nThis Lease Agreement (\"Agreement\") is entered into on January 13, 2025, by and between:\\n\\nLESSOR: Sarah Garcia (\"Landlord\")\\nLESSEE: Sarah Brown (\"Tenant\")\\n\\nPROPERTY: The Landlord hereby leases to the Tenant the residential property located at:\\n6062 Chestnut Blvd, Springfield, OH 96840\\n\\n1. TERM OF LEASE\\nThe term of this lease shall commence on January 13, 2025 and shall terminate on January 13, 2026. This Agreement shall be considered a fixed-term lease.\\n\\n2. RENT\\nThe Tenant agrees to pay the Landlord a monthly rent of $2564. Rent is due on the 1st day of each month. If rent is not received by the 5th day of the month, a late fee of $50.00 will be assessed.\\n\\n3. SECURITY DEPOSIT\\nUpon execution of this Agreement, Tenant shall deposit with Landlord the sum of $3076 as a security deposit. This deposit shall be held by the Landlord as security for the faithful performance by the Tenant of all terms, covenants, and conditions of this Agreement.\\n\\n4. USE OF PREMISES\\nThe premises shall be used and occupied by the Tenant exclusively as a private residential dwelling. No part of the premises shall be used for any business or commercial purpose.\\n\\n5. UTILITIES\\nThe Tenant shall be responsible for payment of all utilities and services, including but not limited to electricity, gas, water, sewer, trash removal, cable, and internet services.\\n\\n6. MAINTENANCE AND REPAIRS\\nThe Tenant shall maintain the premises in good, clean, and sanitary condition. The Tenant shall promptly notify the Landlord of any damage, defects, or dangerous conditions on the premises.\\n\\n7. ALTERATIONS\\nThe Tenant shall not make any alterations, additions, or improvements to the premises without the prior written consent of the Landlord.\\n\\n8. PETS\\nNo pets shall be allowed on the premises without the prior written consent of the Landlord. If permission is granted, an additional pet deposit may be required.\\n\\n9. SUBLETTING\\nThe Tenant shall not sublet the premises or any part thereof, nor assign this lease, without the prior written consent of the Landlord.\\n\\n10. RIGHT OF ENTRY\\nThe Landlord reserves the right to enter the premises with reasonable notice (except in cases of emergency) for the purpose of inspection, repairs, or showing the property to prospective tenants or buyers.\\n\\n11. TERMINATION\\nUpon termination of this lease, the Tenant shall surrender the premises in as good condition as when received, reasonable wear and tear excepted. The Tenant shall remove all personal property and clean the premises thoroughly.\\n\\n12. DEFAULT\\nIf the Tenant fails to pay rent when due or breaches any other term of this Agreement, the Landlord may terminate this lease with proper notice as required by law.\\n\\n13. GOVERNING LAW\\nThis Agreement shall be governed by the laws of the state in which the property is located.\\n\\n14. ENTIRE AGREEMENT\\nThis Agreement constitutes the entire agreement between the parties and supersedes all prior negotiations, representations, or agreements, whether written or oral.\\n\\n15. SEVERABILITY\\nIf any provision of this Agreement is held to be invalid or unenforceable, the remaining provisions shall continue in full force and effect.\\n\\n16. ADDITIONAL TERMS AND CONDITIONS\\n[Space for any additional terms agreed upon by both parties]\\n\\n_________________________________________________\\n\\n_________________________________________________\\n\\n_________________________________________________\\n\\n\\nSIGNATURES\\n\\nLANDLORD:\\nSignature: _________________________________ Date: _____________\\nPrint Name: Sarah Garcia\\n\\nTENANT:\\nSignature: _________________________________ Date: _____________\\nPrint Name: Sarah Brown\\n\\nACKNOWLEDGMENT\\nBy signing above, both parties acknowledge that they have read, understood, and agree to be bound by all terms and conditions of this Lease Agreement.\\n', {'entities': [(127, 139, 'LESSOR_NAME'), (161, 172, 'LESSEE_NAME'), (273, 314, 'PROPERTY_ADDRESS'), (374, 390, 'LEASE_START_DATE'), (414, 430, 'LEASE_END_DATE'), (552, 557, 'RENT_AMOUNT'), (794, 799, 'SECURITY_DEPOSIT_AMOUNT')]}), ('\\nRESIDENTIAL LEASE AGREEMENT\\n\\nThis Lease Agreement (\"Agreement\") is entered into on September 20, 2024, by and between:\\n\\nLESSOR: Ashley Garcia (\"Landlord\")\\nLESSEE: John Brown (\"Tenant\")\\n\\nPROPERTY: The Landlord hereby leases to the Tenant the residential property located at:\\n1376 Elm St, Georgetown, NY 64715\\n\\n1. TERM OF LEASE\\nThe term of this lease shall commence on September 20, 2024 and shall terminate on September 20, 2025. This Agreement shall be considered a fixed-term lease.\\n\\n2. RENT\\nThe Tenant agrees to pay the Landlord a monthly rent of $2935. Rent is due on the 1st day of each month. If rent is not received by the 5th day of the month, a late fee of $50.00 will be assessed.\\n\\n3. SECURITY DEPOSIT\\nUpon execution of this Agreement, Tenant shall deposit with Landlord the sum of $3522 as a security deposit. This deposit shall be held by the Landlord as security for the faithful performance by the Tenant of all terms, covenants, and conditions of this Agreement.\\n\\n4. USE OF PREMISES\\nThe premises shall be used and occupied by the Tenant exclusively as a private residential dwelling. No part of the premises shall be used for any business or commercial purpose.\\n\\n5. UTILITIES\\nThe Tenant shall be responsible for payment of all utilities and services, including but not limited to electricity, gas, water, sewer, trash removal, cable, and internet services.\\n\\n6. MAINTENANCE AND REPAIRS\\nThe Tenant shall maintain the premises in good, clean, and sanitary condition. The Tenant shall promptly notify the Landlord of any damage, defects, or dangerous conditions on the premises.\\n\\n7. ALTERATIONS\\nThe Tenant shall not make any alterations, additions, or improvements to the premises without the prior written consent of the Landlord.\\n\\n8. PETS\\nNo pets shall be allowed on the premises without the prior written consent of the Landlord. If permission is granted, an additional pet deposit may be required.\\n\\n9. SUBLETTING\\nThe Tenant shall not sublet the premises or any part thereof, nor assign this lease, without the prior written consent of the Landlord.\\n\\n10. RIGHT OF ENTRY\\nThe Landlord reserves the right to enter the premises with reasonable notice (except in cases of emergency) for the purpose of inspection, repairs, or showing the property to prospective tenants or buyers.\\n\\n11. TERMINATION\\nUpon termination of this lease, the Tenant shall surrender the premises in as good condition as when received, reasonable wear and tear excepted. The Tenant shall remove all personal property and clean the premises thoroughly.\\n\\n12. DEFAULT\\nIf the Tenant fails to pay rent when due or breaches any other term of this Agreement, the Landlord may terminate this lease with proper notice as required by law.\\n\\n13. GOVERNING LAW\\nThis Agreement shall be governed by the laws of the state in which the property is located.\\n\\n14. ENTIRE AGREEMENT\\nThis Agreement constitutes the entire agreement between the parties and supersedes all prior negotiations, representations, or agreements, whether written or oral.\\n\\n15. SEVERABILITY\\nIf any provision of this Agreement is held to be invalid or unenforceable, the remaining provisions shall continue in full force and effect.\\n\\n16. ADDITIONAL TERMS AND CONDITIONS\\n[Space for any additional terms agreed upon by both parties]\\n\\n_________________________________________________\\n\\n_________________________________________________\\n\\n_________________________________________________\\n\\n\\nSIGNATURES\\n\\nLANDLORD:\\nSignature: _________________________________ Date: _____________\\nPrint Name: Ashley Garcia\\n\\nTENANT:\\nSignature: _________________________________ Date: _____________\\nPrint Name: John Brown\\n\\nACKNOWLEDGMENT\\nBy signing above, both parties acknowledge that they have read, understood, and agree to be bound by all terms and conditions of this Lease Agreement.\\n', {'entities': [(129, 142, 'LESSOR_NAME'), (164, 174, 'LESSEE_NAME'), (275, 308, 'PROPERTY_ADDRESS'), (368, 386, 'LEASE_START_DATE'), (410, 428, 'LEASE_END_DATE'), (550, 555, 'RENT_AMOUNT'), (792, 797, 'SECURITY_DEPOSIT_AMOUNT')]}), ('\\nRESIDENTIAL LEASE AGREEMENT\\n\\nThis Lease Agreement (\"Agreement\") is entered into on October 10, 2024, by and between:\\n\\nLESSOR: Jessica Davis (\"Landlord\")\\nLESSEE: Brian Davis (\"Tenant\")\\n\\nPROPERTY: The Landlord hereby leases to the Tenant the residential property located at:\\n2322 Chestnut Blvd, Clinton, CA 79789\\n\\n1. TERM OF LEASE\\nThe term of this lease shall commence on October 10, 2024 and shall terminate on October 10, 2025. This Agreement shall be considered a fixed-term lease.\\n\\n2. RENT\\nThe Tenant agrees to pay the Landlord a monthly rent of $2866. Rent is due on the 1st day of each month. If rent is not received by the 5th day of the month, a late fee of $50.00 will be assessed.\\n\\n3. SECURITY DEPOSIT\\nUpon execution of this Agreement, Tenant shall deposit with Landlord the sum of $3439 as a security deposit. This deposit shall be held by the Landlord as security for the faithful performance by the Tenant of all terms, covenants, and conditions of this Agreement.\\n\\n4. USE OF PREMISES\\nThe premises shall be used and occupied by the Tenant exclusively as a private residential dwelling. No part of the premises shall be used for any business or commercial purpose.\\n\\n5. UTILITIES\\nThe Tenant shall be responsible for payment of all utilities and services, including but not limited to electricity, gas, water, sewer, trash removal, cable, and internet services.\\n\\n6. MAINTENANCE AND REPAIRS\\nThe Tenant shall maintain the premises in good, clean, and sanitary condition. The Tenant shall promptly notify the Landlord of any damage, defects, or dangerous conditions on the premises.\\n\\n7. ALTERATIONS\\nThe Tenant shall not make any alterations, additions, or improvements to the premises without the prior written consent of the Landlord.\\n\\n8. PETS\\nNo pets shall be allowed on the premises without the prior written consent of the Landlord. If permission is granted, an additional pet deposit may be required.\\n\\n9. SUBLETTING\\nThe Tenant shall not sublet the premises or any part thereof, nor assign this lease, without the prior written consent of the Landlord.\\n\\n10. RIGHT OF ENTRY\\nThe Landlord reserves the right to enter the premises with reasonable notice (except in cases of emergency) for the purpose of inspection, repairs, or showing the property to prospective tenants or buyers.\\n\\n11. TERMINATION\\nUpon termination of this lease, the Tenant shall surrender the premises in as good condition as when received, reasonable wear and tear excepted. The Tenant shall remove all personal property and clean the premises thoroughly.\\n\\n12. DEFAULT\\nIf the Tenant fails to pay rent when due or breaches any other term of this Agreement, the Landlord may terminate this lease with proper notice as required by law.\\n\\n13. GOVERNING LAW\\nThis Agreement shall be governed by the laws of the state in which the property is located.\\n\\n14. ENTIRE AGREEMENT\\nThis Agreement constitutes the entire agreement between the parties and supersedes all prior negotiations, representations, or agreements, whether written or oral.\\n\\n15. SEVERABILITY\\nIf any provision of this Agreement is held to be invalid or unenforceable, the remaining provisions shall continue in full force and effect.\\n\\n16. ADDITIONAL TERMS AND CONDITIONS\\n[Space for any additional terms agreed upon by both parties]\\n\\n_________________________________________________\\n\\n_________________________________________________\\n\\n_________________________________________________\\n\\n\\nSIGNATURES\\n\\nLANDLORD:\\nSignature: _________________________________ Date: _____________\\nPrint Name: Jessica Davis\\n\\nTENANT:\\nSignature: _________________________________ Date: _____________\\nPrint Name: Brian Davis\\n\\nACKNOWLEDGMENT\\nBy signing above, both parties acknowledge that they have read, understood, and agree to be bound by all terms and conditions of this Lease Agreement.\\n', {'entities': [(127, 140, 'LESSOR_NAME'), (162, 173, 'LESSEE_NAME'), (274, 311, 'PROPERTY_ADDRESS'), (371, 387, 'LEASE_START_DATE'), (411, 427, 'LEASE_END_DATE'), (549, 554, 'RENT_AMOUNT'), (791, 796, 'SECURITY_DEPOSIT_AMOUNT')]}), ('\\nRESIDENTIAL LEASE AGREEMENT\\n\\nThis Lease Agreement (\"Agreement\") is entered into on August 24, 2024, by and between:\\n\\nLESSOR: James Smith (\"Landlord\")\\nLESSEE: Amanda Martinez (\"Tenant\")\\n\\nPROPERTY: The Landlord hereby leases to the Tenant the residential property located at:\\n3658 Cedar Ln, Greenville, FL 68317\\n\\n1. TERM OF LEASE\\nThe term of this lease shall commence on August 24, 2024 and shall terminate on August 24, 2025. This Agreement shall be considered a fixed-term lease.\\n\\n2. RENT\\nThe Tenant agrees to pay the Landlord a monthly rent of $1900. Rent is due on the 1st day of each month. If rent is not received by the 5th day of the month, a late fee of $50.00 will be assessed.\\n\\n3. SECURITY DEPOSIT\\nUpon execution of this Agreement, Tenant shall deposit with Landlord the sum of $2280 as a security deposit. This deposit shall be held by the Landlord as security for the faithful performance by the Tenant of all terms, covenants, and conditions of this Agreement.\\n\\n4. USE OF PREMISES\\nThe premises shall be used and occupied by the Tenant exclusively as a private residential dwelling. No part of the premises shall be used for any business or commercial purpose.\\n\\n5. UTILITIES\\nThe Tenant shall be responsible for payment of all utilities and services, including but not limited to electricity, gas, water, sewer, trash removal, cable, and internet services.\\n\\n6. MAINTENANCE AND REPAIRS\\nThe Tenant shall maintain the premises in good, clean, and sanitary condition. The Tenant shall promptly notify the Landlord of any damage, defects, or dangerous conditions on the premises.\\n\\n7. ALTERATIONS\\nThe Tenant shall not make any alterations, additions, or improvements to the premises without the prior written consent of the Landlord.\\n\\n8. PETS\\nNo pets shall be allowed on the premises without the prior written consent of the Landlord. If permission is granted, an additional pet deposit may be required.\\n\\n9. SUBLETTING\\nThe Tenant shall not sublet the premises or any part thereof, nor assign this lease, without the prior written consent of the Landlord.\\n\\n10. RIGHT OF ENTRY\\nThe Landlord reserves the right to enter the premises with reasonable notice (except in cases of emergency) for the purpose of inspection, repairs, or showing the property to prospective tenants or buyers.\\n\\n11. TERMINATION\\nUpon termination of this lease, the Tenant shall surrender the premises in as good condition as when received, reasonable wear and tear excepted. The Tenant shall remove all personal property and clean the premises thoroughly.\\n\\n12. DEFAULT\\nIf the Tenant fails to pay rent when due or breaches any other term of this Agreement, the Landlord may terminate this lease with proper notice as required by law.\\n\\n13. GOVERNING LAW\\nThis Agreement shall be governed by the laws of the state in which the property is located.\\n\\n14. ENTIRE AGREEMENT\\nThis Agreement constitutes the entire agreement between the parties and supersedes all prior negotiations, representations, or agreements, whether written or oral.\\n\\n15. SEVERABILITY\\nIf any provision of this Agreement is held to be invalid or unenforceable, the remaining provisions shall continue in full force and effect.\\n\\n16. ADDITIONAL TERMS AND CONDITIONS\\n[Space for any additional terms agreed upon by both parties]\\n\\n_________________________________________________\\n\\n_________________________________________________\\n\\n_________________________________________________\\n\\n\\nSIGNATURES\\n\\nLANDLORD:\\nSignature: _________________________________ Date: _____________\\nPrint Name: James Smith\\n\\nTENANT:\\nSignature: _________________________________ Date: _____________\\nPrint Name: Amanda Martinez\\n\\nACKNOWLEDGMENT\\nBy signing above, both parties acknowledge that they have read, understood, and agree to be bound by all terms and conditions of this Lease Agreement.\\n', {'entities': [(126, 137, 'LESSOR_NAME'), (159, 174, 'LESSEE_NAME'), (275, 310, 'PROPERTY_ADDRESS'), (370, 385, 'LEASE_START_DATE'), (409, 424, 'LEASE_END_DATE'), (546, 551, 'RENT_AMOUNT'), (788, 793, 'SECURITY_DEPOSIT_AMOUNT')]}), ('\\nRESIDENTIAL LEASE AGREEMENT\\n\\nThis Lease Agreement (\"Agreement\") is entered into on August 27, 2024, by and between:\\n\\nLESSOR: Jessica Johnson (\"Landlord\")\\nLESSEE: Ashley Davis (\"Tenant\")\\n\\nPROPERTY: The Landlord hereby leases to the Tenant the residential property located at:\\n8997 Birch Way, Springfield, CA 53353\\n\\n1. TERM OF LEASE\\nThe term of this lease shall commence on August 27, 2024 and shall terminate on August 27, 2025. This Agreement shall be considered a fixed-term lease.\\n\\n2. RENT\\nThe Tenant agrees to pay the Landlord a monthly rent of $1846. Rent is due on the 1st day of each month. If rent is not received by the 5th day of the month, a late fee of $50.00 will be assessed.\\n\\n3. SECURITY DEPOSIT\\nUpon execution of this Agreement, Tenant shall deposit with Landlord the sum of 6 as a security deposit. This deposit shall be held by the Landlord as security for the faithful performance by the Tenant of all terms, covenants, and conditions of this Agreement.\\n\\n4. USE OF PREMISES\\nThe premises shall be used and occupied by the Tenant exclusively as a private residential dwelling. No part of the premises shall be used for any business or commercial purpose.\\n\\n5. UTILITIES\\nThe Tenant shall be responsible for payment of all utilities and services, including but not limited to electricity, gas, water, sewer, trash removal, cable, and internet services.\\n\\n6. MAINTENANCE AND REPAIRS\\nThe Tenant shall maintain the premises in good, clean, and sanitary condition. The Tenant shall promptly notify the Landlord of any damage, defects, or dangerous conditions on the premises.\\n\\n7. ALTERATIONS\\nThe Tenant shall not make any alterations, additions, or improvements to the premises without the prior written consent of the Landlord.\\n\\n8. PETS\\nNo pets shall be allowed on the premises without the prior written consent of the Landlord. If permission is granted, an additional pet deposit may be required.\\n\\n9. SUBLETTING\\nThe Tenant shall not sublet the premises or any part thereof, nor assign this lease, without the prior written consent of the Landlord.\\n\\n10. RIGHT OF ENTRY\\nThe Landlord reserves the right to enter the premises with reasonable notice (except in cases of emergency) for the purpose of inspection, repairs, or showing the property to prospective tenants or buyers.\\n\\n11. TERMINATION\\nUpon termination of this lease, the Tenant shall surrender the premises in as good condition as when received, reasonable wear and tear excepted. The Tenant shall remove all personal property and clean the premises thoroughly.\\n\\n12. DEFAULT\\nIf the Tenant fails to pay rent when due or breaches any other term of this Agreement, the Landlord may terminate this lease with proper notice as required by law.\\n\\n13. GOVERNING LAW\\nThis Agreement shall be governed by the laws of the state in which the property is located.\\n\\n14. ENTIRE AGREEMENT\\nThis Agreement constitutes the entire agreement between the parties and supersedes all prior negotiations, representations, or agreements, whether written or oral.\\n\\n15. SEVERABILITY\\nIf any provision of this Agreement is held to be invalid or unenforceable, the remaining provisions shall continue in full force and effect.\\n\\n16. ADDITIONAL TERMS AND CONDITIONS\\n[Space for any additional terms agreed upon by both parties]\\n\\n_________________________________________________\\n\\n_________________________________________________\\n\\n_________________________________________________\\n\\n\\nSIGNATURES\\n\\nLANDLORD:\\nSignature: _________________________________ Date: _____________\\nPrint Name: Jessica Johnson\\n\\nTENANT:\\nSignature: _________________________________ Date: _____________\\nPrint Name: Ashley Davis\\n\\nACKNOWLEDGMENT\\nBy signing above, both parties acknowledge that they have read, understood, and agree to be bound by all terms and conditions of this Lease Agreement.\\n', {'entities': [(126, 141, 'LESSOR_NAME'), (163, 175, 'LESSEE_NAME'), (276, 313, 'PROPERTY_ADDRESS'), (373, 388, 'LEASE_START_DATE'), (412, 427, 'LEASE_END_DATE'), (549, 554, 'RENT_AMOUNT'), (791, 796, 'SECURITY_DEPOSIT_AMOUNT')]})]\n"
     ]
    }
   ],
   "source": [
    "import json\n",
    "\n",
    "\n",
    "train_data = []\n",
    "\n",
    "# read tagged dataset json file\n",
    "with open('tagged_dataset.json', 'r') as f:\n",
    "    tagged_data = json.load(f)\n",
    "for single_lease in tagged_data:\n",
    "    file_path = single_lease['file_path']\n",
    "    entities = single_lease['entities']\n",
    "    file = open(file_path, 'r')\n",
    "    file_text = file.read()\n",
    "    ent = []\n",
    "    for entity, details in entities.items():\n",
    "        start = details['start']\n",
    "        end = details['end']\n",
    "        # print(f\"Entity: {entity}, Start: {start}, End: {end}, Text: {file_text[start:end]}\")\n",
    "        ent.append((start, end, entity))\n",
    "    train_data.append((file_text, {\"entities\": ent}))\n",
    "\n",
    "print(train_data)"
   ]
  },
  {
   "cell_type": "code",
   "execution_count": 3,
   "id": "fba64375",
   "metadata": {},
   "outputs": [
    {
     "name": "stderr",
     "output_type": "stream",
     "text": [
      "/Users/akshaychavan/Library/Python/3.9/lib/python/site-packages/spacy/training/iob_utils.py:149: UserWarning: [W030] Some entities could not be aligned in the text \"\n",
      "RESIDENTIAL LEASE AGREEMENT\n",
      "\n",
      "This Lease Agreement...\" with entities \"[(126, 141, 'LESSOR_NAME'), (163, 175, 'LESSEE_NAM...\". Use `spacy.training.offsets_to_biluo_tags(nlp.make_doc(text), entities)` to check the alignment. Misaligned entities ('-') will be ignored during training.\n",
      "  warnings.warn(\n"
     ]
    },
    {
     "name": "stdout",
     "output_type": "stream",
     "text": [
      "Iteration 0, Losses: {'ner': 449.855916260035}\n",
      "Iteration 1, Losses: {'ner': 168.5134855548755}\n",
      "Iteration 2, Losses: {'ner': 134.731561727632}\n",
      "Iteration 3, Losses: {'ner': 114.61637732069043}\n",
      "Iteration 4, Losses: {'ner': 109.51008292862099}\n",
      "Iteration 5, Losses: {'ner': 220.62196493794133}\n",
      "Iteration 6, Losses: {'ner': 473.8275039072938}\n",
      "Iteration 7, Losses: {'ner': 626.4147784078727}\n",
      "Iteration 8, Losses: {'ner': 254.27152120646628}\n",
      "Iteration 9, Losses: {'ner': 887.3467420849557}\n",
      "Iteration 10, Losses: {'ner': 461.792239568485}\n",
      "Iteration 11, Losses: {'ner': 275.38556825911246}\n",
      "Iteration 12, Losses: {'ner': 547.4909260094141}\n",
      "Iteration 13, Losses: {'ner': 400.5301573989939}\n",
      "Iteration 14, Losses: {'ner': 320.7773916686019}\n",
      "Iteration 15, Losses: {'ner': 162.95476063049713}\n",
      "Iteration 16, Losses: {'ner': 482.04331162737253}\n",
      "Iteration 17, Losses: {'ner': 191.67723651622674}\n",
      "Iteration 18, Losses: {'ner': 129.84338896519552}\n",
      "Iteration 19, Losses: {'ner': 248.9666106104582}\n",
      "Iteration 20, Losses: {'ner': 714.4317309263572}\n",
      "Iteration 21, Losses: {'ner': 674.5730317598361}\n",
      "Iteration 22, Losses: {'ner': 264.8262696152605}\n",
      "Iteration 23, Losses: {'ner': 108.1647170342628}\n",
      "Iteration 24, Losses: {'ner': 150.84214291797764}\n",
      "Iteration 25, Losses: {'ner': 156.43240519074016}\n",
      "Iteration 26, Losses: {'ner': 601.9788918110214}\n",
      "Iteration 27, Losses: {'ner': 519.8915561645676}\n",
      "Iteration 28, Losses: {'ner': 281.4789759978569}\n",
      "Iteration 29, Losses: {'ner': 162.297458692727}\n",
      "Iteration 30, Losses: {'ner': 94.1800365608866}\n",
      "Iteration 31, Losses: {'ner': 80.44056584068632}\n",
      "Iteration 32, Losses: {'ner': 136.74436175526446}\n",
      "Iteration 33, Losses: {'ner': 645.4771406448608}\n",
      "Iteration 34, Losses: {'ner': 466.3871635983437}\n",
      "Iteration 35, Losses: {'ner': 232.34946452120954}\n",
      "Iteration 36, Losses: {'ner': 147.0061944872027}\n",
      "Iteration 37, Losses: {'ner': 117.72789470549405}\n",
      "Iteration 38, Losses: {'ner': 86.99812093070108}\n",
      "Iteration 39, Losses: {'ner': 198.50503663228733}\n",
      "Iteration 40, Losses: {'ner': 187.23003381166694}\n",
      "Iteration 41, Losses: {'ner': 110.45219106814756}\n",
      "Iteration 42, Losses: {'ner': 92.85464962329202}\n",
      "Iteration 43, Losses: {'ner': 508.17151591437863}\n",
      "Iteration 44, Losses: {'ner': 697.3559120609211}\n",
      "Iteration 45, Losses: {'ner': 213.84775300142684}\n",
      "Iteration 46, Losses: {'ner': 118.95738167194361}\n",
      "Iteration 47, Losses: {'ner': 197.63163194340012}\n",
      "Iteration 48, Losses: {'ner': 287.72415355297386}\n",
      "Iteration 49, Losses: {'ner': 162.5117067167269}\n",
      "Iteration 50, Losses: {'ner': 104.43011920852211}\n",
      "Iteration 51, Losses: {'ner': 112.05290400307267}\n",
      "Iteration 52, Losses: {'ner': 93.89539515215965}\n",
      "Iteration 53, Losses: {'ner': 157.09972173080365}\n",
      "Iteration 54, Losses: {'ner': 120.71898959274758}\n",
      "Iteration 55, Losses: {'ner': 87.80096662942877}\n",
      "Iteration 56, Losses: {'ner': 104.98519726873033}\n",
      "Iteration 57, Losses: {'ner': 137.58562793054583}\n",
      "Iteration 58, Losses: {'ner': 105.72280265745457}\n",
      "Iteration 59, Losses: {'ner': 69.95432424325406}\n",
      "Iteration 60, Losses: {'ner': 84.3396151369006}\n",
      "Iteration 61, Losses: {'ner': 61.484471725006806}\n",
      "Iteration 62, Losses: {'ner': 119.78371774406321}\n",
      "Iteration 63, Losses: {'ner': 81.54188299929027}\n",
      "Iteration 64, Losses: {'ner': 76.53816365182753}\n",
      "Iteration 65, Losses: {'ner': 131.94296301013947}\n",
      "Iteration 66, Losses: {'ner': 115.05259150641278}\n",
      "Iteration 67, Losses: {'ner': 59.10685985858165}\n",
      "Iteration 68, Losses: {'ner': 63.67169769075408}\n",
      "Iteration 69, Losses: {'ner': 90.47078696077766}\n",
      "Iteration 70, Losses: {'ner': 97.18159537171768}\n",
      "Iteration 71, Losses: {'ner': 68.25708683001251}\n",
      "Iteration 72, Losses: {'ner': 57.71898907327696}\n",
      "Iteration 73, Losses: {'ner': 74.36286696989647}\n",
      "Iteration 74, Losses: {'ner': 60.336849260313585}\n",
      "Iteration 75, Losses: {'ner': 68.76757460954556}\n",
      "Iteration 76, Losses: {'ner': 85.54322488131868}\n",
      "Iteration 77, Losses: {'ner': 47.86226264971689}\n",
      "Iteration 78, Losses: {'ner': 44.42862591591783}\n",
      "Iteration 79, Losses: {'ner': 69.7855615601358}\n",
      "Iteration 80, Losses: {'ner': 42.119080997372485}\n",
      "Iteration 81, Losses: {'ner': 49.38561146490868}\n",
      "Iteration 82, Losses: {'ner': 76.08906655413891}\n",
      "Iteration 83, Losses: {'ner': 43.66315590702015}\n",
      "Iteration 84, Losses: {'ner': 50.10765542447885}\n",
      "Iteration 85, Losses: {'ner': 77.25658860295847}\n",
      "Iteration 86, Losses: {'ner': 69.00740847459738}\n",
      "Iteration 87, Losses: {'ner': 40.09679275759859}\n",
      "Iteration 88, Losses: {'ner': 76.10161882539823}\n",
      "Iteration 89, Losses: {'ner': 84.97650683810409}\n",
      "Iteration 90, Losses: {'ner': 53.262493193839525}\n",
      "Iteration 91, Losses: {'ner': 40.46132218706858}\n",
      "Iteration 92, Losses: {'ner': 41.97959409426165}\n",
      "Iteration 93, Losses: {'ner': 31.29148473428948}\n",
      "Iteration 94, Losses: {'ner': 32.86054949945604}\n",
      "Iteration 95, Losses: {'ner': 27.071727513904786}\n",
      "Iteration 96, Losses: {'ner': 33.92808840233172}\n",
      "Iteration 97, Losses: {'ner': 18.62482923597557}\n",
      "Iteration 98, Losses: {'ner': 32.153861506725434}\n",
      "Iteration 99, Losses: {'ner': 14.336332349148211}\n"
     ]
    }
   ],
   "source": [
    "# Load English language model and create a blank model for NER\n",
    "nlp = spacy.load(\"en_core_web_md\")\n",
    "\n",
    "# Add NER pipe if it doesn't exist\n",
    "if \"ner\" not in nlp.pipe_names:\n",
    "    ner = nlp.add_pipe(\"ner\")\n",
    "else:\n",
    "    ner = nlp.get_pipe(\"ner\")\n",
    "\n",
    "# Add labels to the NER component\n",
    "for _, annotations in train_data:\n",
    "    for ent in annotations.get(\"entities\"):\n",
    "        if ent[2] not in ner.labels:\n",
    "            ner.add_label(ent[2])\n",
    "\n",
    "# Disable other pipes and train only NER\n",
    "other_pipes = [pipe for pipe in nlp.pipe_names if pipe != \"ner\"]\n",
    "with nlp.disable_pipes(*other_pipes):\n",
    "    # Initialize the optimizer with default settings\n",
    "    optimizer = nlp.create_optimizer()\n",
    "    \n",
    "    # Training loop\n",
    "    for itn in range(100):\n",
    "        random.shuffle(train_data)\n",
    "        losses = {}\n",
    "        \n",
    "        # Batch the examples\n",
    "        losses = {}\n",
    "        batches = minibatch(train_data, size=2)\n",
    "        for batch in batches:\n",
    "            examples = []\n",
    "            for text, annotations in batch:\n",
    "                doc = nlp.make_doc(text)\n",
    "                example = Example.from_dict(doc, annotations)\n",
    "                examples.append(example)\n",
    "            \n",
    "            # Update the model\n",
    "            nlp.update(examples, drop=0.5, sgd=optimizer, losses=losses)\n",
    "            \n",
    "        print(f\"Iteration {itn}, Losses: {losses}\")\n",
    "\n",
    "# Save the trained model\n",
    "nlp.to_disk(\"lease_ner_model\")\n",
    "\n",
    "# Test the model\n",
    "nlp_lease = spacy.load(\"lease_ner_model\")"
   ]
  },
  {
   "cell_type": "code",
   "execution_count": 4,
   "id": "c2b3be05",
   "metadata": {},
   "outputs": [
    {
     "name": "stdout",
     "output_type": "stream",
     "text": [
      "Sarah Garcia LESSOR_NAME\n",
      "Sarah Brown LESSEE_NAME\n",
      "6062 Chestnut Blvd, Springfield, OH 96840 PROPERTY_ADDRESS\n",
      "January 13, 2025 LEASE_START_DATE\n",
      "January 13, 2026 LEASE_END_DATE\n",
      "$2564 RENT_AMOUNT\n",
      "$3076 SECURITY_DEPOSIT_AMOUNT\n"
     ]
    }
   ],
   "source": [
    "f = open(\"/Users/akshaychavan/Documents/college/NLP/Lease_Documents_Text/Lease_Agreement_6.txt\")\n",
    "test_text = f.read()\n",
    "doc = nlp_lease(test_text)\n",
    "for ent in doc.ents:\n",
    "    print(ent.text, ent.label_)"
   ]
  },
  {
   "cell_type": "code",
   "execution_count": null,
   "id": "2b3cd4a0",
   "metadata": {},
   "outputs": [],
   "source": []
  }
 ],
 "metadata": {
  "kernelspec": {
   "display_name": "Python 3",
   "language": "python",
   "name": "python3"
  },
  "language_info": {
   "codemirror_mode": {
    "name": "ipython",
    "version": 3
   },
   "file_extension": ".py",
   "mimetype": "text/x-python",
   "name": "python",
   "nbconvert_exporter": "python",
   "pygments_lexer": "ipython3",
   "version": "3.9.6"
  }
 },
 "nbformat": 4,
 "nbformat_minor": 5
}
